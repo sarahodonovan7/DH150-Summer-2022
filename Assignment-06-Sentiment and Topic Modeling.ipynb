{
 "cells": [
  {
   "cell_type": "code",
   "execution_count": 83,
   "id": "6e8f3e78-f386-43d9-8c50-4a15d08361b9",
   "metadata": {},
   "outputs": [],
   "source": [
    "import pandas as pd\n",
    "import statistics\n",
    "import matplotlib.pyplot as plt\n",
    "import numpy as np"
   ]
  },
  {
   "cell_type": "code",
   "execution_count": 84,
   "id": "8ba82f59-391f-47d9-87f6-8b59cb32fc89",
   "metadata": {},
   "outputs": [],
   "source": [
    "#import data set\n",
    "trump_tweets = pd.read_csv('realDonaldTrump2.csv',encoding='mac_roman')\n",
    "obama_tweets = pd.read_csv('BarackObama2.csv',encoding='mac_roman')"
   ]
  },
  {
   "cell_type": "code",
   "execution_count": 85,
   "id": "a3f01c35-a5ab-40f0-ae64-733a695f880b",
   "metadata": {},
   "outputs": [
    {
     "data": {
      "text/html": [
       "<div>\n",
       "<style scoped>\n",
       "    .dataframe tbody tr th:only-of-type {\n",
       "        vertical-align: middle;\n",
       "    }\n",
       "\n",
       "    .dataframe tbody tr th {\n",
       "        vertical-align: top;\n",
       "    }\n",
       "\n",
       "    .dataframe thead th {\n",
       "        text-align: right;\n",
       "    }\n",
       "</style>\n",
       "<table border=\"1\" class=\"dataframe\">\n",
       "  <thead>\n",
       "    <tr style=\"text-align: right;\">\n",
       "      <th></th>\n",
       "      <th>created_at</th>\n",
       "      <th>text</th>\n",
       "      <th>url</th>\n",
       "      <th>replies</th>\n",
       "      <th>retweets</th>\n",
       "      <th>favorites</th>\n",
       "      <th>user</th>\n",
       "    </tr>\n",
       "  </thead>\n",
       "  <tbody>\n",
       "    <tr>\n",
       "      <th>0</th>\n",
       "      <td>10/23/17 12:30</td>\n",
       "      <td>I had a very respectful conversation with the ...</td>\n",
       "      <td>https://twitter.com/realDonaldTrump/status/922...</td>\n",
       "      <td>46228</td>\n",
       "      <td>10243</td>\n",
       "      <td>49468</td>\n",
       "      <td>realDonaldTrump</td>\n",
       "    </tr>\n",
       "    <tr>\n",
       "      <th>1</th>\n",
       "      <td>10/23/17 11:53</td>\n",
       "      <td>Two dozen NFL players continue to kneel during...</td>\n",
       "      <td>https://twitter.com/realDonaldTrump/status/922...</td>\n",
       "      <td>31419</td>\n",
       "      <td>14006</td>\n",
       "      <td>62406</td>\n",
       "      <td>realDonaldTrump</td>\n",
       "    </tr>\n",
       "    <tr>\n",
       "      <th>2</th>\n",
       "      <td>10/23/17 11:42</td>\n",
       "      <td>There will be NO change to your 401(k). This h...</td>\n",
       "      <td>https://twitter.com/realDonaldTrump/status/922...</td>\n",
       "      <td>9552</td>\n",
       "      <td>13719</td>\n",
       "      <td>62662</td>\n",
       "      <td>realDonaldTrump</td>\n",
       "    </tr>\n",
       "    <tr>\n",
       "      <th>3</th>\n",
       "      <td>10/22/17 12:08</td>\n",
       "      <td>It is finally sinking through. 46% OF PEOPLE B...</td>\n",
       "      <td>https://twitter.com/realDonaldTrump/status/922...</td>\n",
       "      <td>56238</td>\n",
       "      <td>25102</td>\n",
       "      <td>112890</td>\n",
       "      <td>realDonaldTrump</td>\n",
       "    </tr>\n",
       "    <tr>\n",
       "      <th>4</th>\n",
       "      <td>10/22/17 12:02</td>\n",
       "      <td>Wacky Congresswoman Wilson is the gift that ke...</td>\n",
       "      <td>https://twitter.com/realDonaldTrump/status/922...</td>\n",
       "      <td>32136</td>\n",
       "      <td>21573</td>\n",
       "      <td>97145</td>\n",
       "      <td>realDonaldTrump</td>\n",
       "    </tr>\n",
       "    <tr>\n",
       "      <th>...</th>\n",
       "      <td>...</td>\n",
       "      <td>...</td>\n",
       "      <td>...</td>\n",
       "      <td>...</td>\n",
       "      <td>...</td>\n",
       "      <td>...</td>\n",
       "      <td>...</td>\n",
       "    </tr>\n",
       "    <tr>\n",
       "      <th>3227</th>\n",
       "      <td>8/24/16 22:39</td>\n",
       "      <td>Thank you for your support!\\r#AmericaFirst #Im...</td>\n",
       "      <td>https://twitter.com/realDonaldTrump/status/768...</td>\n",
       "      <td>1693</td>\n",
       "      <td>6441</td>\n",
       "      <td>18401</td>\n",
       "      <td>realDonaldTrump</td>\n",
       "    </tr>\n",
       "    <tr>\n",
       "      <th>3228</th>\n",
       "      <td>8/24/16 21:32</td>\n",
       "      <td>A great afternoon in Tampa, Florida. Thank you...</td>\n",
       "      <td>https://twitter.com/realDonaldTrump/status/768...</td>\n",
       "      <td>1148</td>\n",
       "      <td>4837</td>\n",
       "      <td>16968</td>\n",
       "      <td>realDonaldTrump</td>\n",
       "    </tr>\n",
       "    <tr>\n",
       "      <th>3229</th>\n",
       "      <td>8/24/16 17:24</td>\n",
       "      <td>New national poll released. Join the MOVEMENT ...</td>\n",
       "      <td>https://twitter.com/realDonaldTrump/status/768...</td>\n",
       "      <td>2737</td>\n",
       "      <td>5991</td>\n",
       "      <td>16619</td>\n",
       "      <td>realDonaldTrump</td>\n",
       "    </tr>\n",
       "    <tr>\n",
       "      <th>3230</th>\n",
       "      <td>8/24/16 16:42</td>\n",
       "      <td>Great new poll Florida - thank you! #MakeAmeri...</td>\n",
       "      <td>https://twitter.com/realDonaldTrump/status/768...</td>\n",
       "      <td>1888</td>\n",
       "      <td>7288</td>\n",
       "      <td>20072</td>\n",
       "      <td>realDonaldTrump</td>\n",
       "    </tr>\n",
       "    <tr>\n",
       "      <th>3231</th>\n",
       "      <td>8/24/16 15:19</td>\n",
       "      <td>I will not let the families of The Remembrance...</td>\n",
       "      <td>https://twitter.com/realDonaldTrump/status/768...</td>\n",
       "      <td>1178</td>\n",
       "      <td>6809</td>\n",
       "      <td>15973</td>\n",
       "      <td>realDonaldTrump</td>\n",
       "    </tr>\n",
       "  </tbody>\n",
       "</table>\n",
       "<p>3232 rows × 7 columns</p>\n",
       "</div>"
      ],
      "text/plain": [
       "          created_at                                               text  \\\n",
       "0     10/23/17 12:30  I had a very respectful conversation with the ...   \n",
       "1     10/23/17 11:53  Two dozen NFL players continue to kneel during...   \n",
       "2     10/23/17 11:42  There will be NO change to your 401(k). This h...   \n",
       "3     10/22/17 12:08  It is finally sinking through. 46% OF PEOPLE B...   \n",
       "4     10/22/17 12:02  Wacky Congresswoman Wilson is the gift that ke...   \n",
       "...              ...                                                ...   \n",
       "3227   8/24/16 22:39  Thank you for your support!\\r#AmericaFirst #Im...   \n",
       "3228   8/24/16 21:32  A great afternoon in Tampa, Florida. Thank you...   \n",
       "3229   8/24/16 17:24  New national poll released. Join the MOVEMENT ...   \n",
       "3230   8/24/16 16:42  Great new poll Florida - thank you! #MakeAmeri...   \n",
       "3231   8/24/16 15:19  I will not let the families of The Remembrance...   \n",
       "\n",
       "                                                    url  replies  retweets  \\\n",
       "0     https://twitter.com/realDonaldTrump/status/922...    46228     10243   \n",
       "1     https://twitter.com/realDonaldTrump/status/922...    31419     14006   \n",
       "2     https://twitter.com/realDonaldTrump/status/922...     9552     13719   \n",
       "3     https://twitter.com/realDonaldTrump/status/922...    56238     25102   \n",
       "4     https://twitter.com/realDonaldTrump/status/922...    32136     21573   \n",
       "...                                                 ...      ...       ...   \n",
       "3227  https://twitter.com/realDonaldTrump/status/768...     1693      6441   \n",
       "3228  https://twitter.com/realDonaldTrump/status/768...     1148      4837   \n",
       "3229  https://twitter.com/realDonaldTrump/status/768...     2737      5991   \n",
       "3230  https://twitter.com/realDonaldTrump/status/768...     1888      7288   \n",
       "3231  https://twitter.com/realDonaldTrump/status/768...     1178      6809   \n",
       "\n",
       "      favorites             user  \n",
       "0         49468  realDonaldTrump  \n",
       "1         62406  realDonaldTrump  \n",
       "2         62662  realDonaldTrump  \n",
       "3        112890  realDonaldTrump  \n",
       "4         97145  realDonaldTrump  \n",
       "...         ...              ...  \n",
       "3227      18401  realDonaldTrump  \n",
       "3228      16968  realDonaldTrump  \n",
       "3229      16619  realDonaldTrump  \n",
       "3230      20072  realDonaldTrump  \n",
       "3231      15973  realDonaldTrump  \n",
       "\n",
       "[3232 rows x 7 columns]"
      ]
     },
     "execution_count": 85,
     "metadata": {},
     "output_type": "execute_result"
    }
   ],
   "source": [
    "#print trump tweets\n",
    "trump_tweets"
   ]
  },
  {
   "cell_type": "code",
   "execution_count": 86,
   "id": "8c15b0b5-03f5-47e1-a753-c10506b10ea4",
   "metadata": {},
   "outputs": [],
   "source": [
    "#assign text only\n",
    "trump_text = trump_tweets['text']"
   ]
  },
  {
   "cell_type": "code",
   "execution_count": 87,
   "id": "a8248d1b-1493-44a4-aca3-7364f95b3a09",
   "metadata": {},
   "outputs": [
    {
     "data": {
      "text/html": [
       "<div>\n",
       "<style scoped>\n",
       "    .dataframe tbody tr th:only-of-type {\n",
       "        vertical-align: middle;\n",
       "    }\n",
       "\n",
       "    .dataframe tbody tr th {\n",
       "        vertical-align: top;\n",
       "    }\n",
       "\n",
       "    .dataframe thead th {\n",
       "        text-align: right;\n",
       "    }\n",
       "</style>\n",
       "<table border=\"1\" class=\"dataframe\">\n",
       "  <thead>\n",
       "    <tr style=\"text-align: right;\">\n",
       "      <th></th>\n",
       "      <th>created_at</th>\n",
       "      <th>text</th>\n",
       "      <th>url</th>\n",
       "      <th>replies</th>\n",
       "      <th>retweets</th>\n",
       "      <th>favorites</th>\n",
       "      <th>user</th>\n",
       "    </tr>\n",
       "  </thead>\n",
       "  <tbody>\n",
       "    <tr>\n",
       "      <th>0</th>\n",
       "      <td>10/16/17 22:59</td>\n",
       "      <td>I'm grateful to @SenJohnMcCain for his lifetim...</td>\n",
       "      <td>https://twitter.com/BarackObama/status/9200615...</td>\n",
       "      <td>17064</td>\n",
       "      <td>89916</td>\n",
       "      <td>641842</td>\n",
       "      <td>BarackObama</td>\n",
       "    </tr>\n",
       "    <tr>\n",
       "      <th>1</th>\n",
       "      <td>10/2/17 12:41</td>\n",
       "      <td>Michelle &amp;amp; I are praying for the victims i...</td>\n",
       "      <td>https://twitter.com/BarackObama/status/9148326...</td>\n",
       "      <td>21588</td>\n",
       "      <td>405895</td>\n",
       "      <td>1715753</td>\n",
       "      <td>BarackObama</td>\n",
       "    </tr>\n",
       "    <tr>\n",
       "      <th>2</th>\n",
       "      <td>9/30/17 2:22</td>\n",
       "      <td>Proud to cheer on Team USA at the Invictus Gam...</td>\n",
       "      <td>https://twitter.com/BarackObama/status/9139520...</td>\n",
       "      <td>8476</td>\n",
       "      <td>60651</td>\n",
       "      <td>503255</td>\n",
       "      <td>BarackObama</td>\n",
       "    </tr>\n",
       "    <tr>\n",
       "      <th>3</th>\n",
       "      <td>9/26/17 17:03</td>\n",
       "      <td>We're expanding our efforts to help Puerto Ric...</td>\n",
       "      <td>https://twitter.com/BarackObama/status/9127244...</td>\n",
       "      <td>10657</td>\n",
       "      <td>113807</td>\n",
       "      <td>334901</td>\n",
       "      <td>BarackObama</td>\n",
       "    </tr>\n",
       "    <tr>\n",
       "      <th>4</th>\n",
       "      <td>9/25/17 23:36</td>\n",
       "      <td>Prosecutor, soldier, family man, citizen. Beau...</td>\n",
       "      <td>https://twitter.com/BarackObama/status/9124608...</td>\n",
       "      <td>3886</td>\n",
       "      <td>58449</td>\n",
       "      <td>328106</td>\n",
       "      <td>BarackObama</td>\n",
       "    </tr>\n",
       "    <tr>\n",
       "      <th>...</th>\n",
       "      <td>...</td>\n",
       "      <td>...</td>\n",
       "      <td>...</td>\n",
       "      <td>...</td>\n",
       "      <td>...</td>\n",
       "      <td>...</td>\n",
       "      <td>...</td>\n",
       "    </tr>\n",
       "    <tr>\n",
       "      <th>3202</th>\n",
       "      <td>8/15/14 20:16</td>\n",
       "      <td>Earning the minimum wage while raising a famil...</td>\n",
       "      <td>https://twitter.com/BarackObama/status/5003754...</td>\n",
       "      <td>536</td>\n",
       "      <td>1520</td>\n",
       "      <td>2155</td>\n",
       "      <td>BarackObama</td>\n",
       "    </tr>\n",
       "    <tr>\n",
       "      <th>3203</th>\n",
       "      <td>8/15/14 18:02</td>\n",
       "      <td>FACT: 97% of scientists and NASA accept the sc...</td>\n",
       "      <td>https://twitter.com/BarackObama/status/5003418...</td>\n",
       "      <td>531</td>\n",
       "      <td>2103</td>\n",
       "      <td>2377</td>\n",
       "      <td>BarackObama</td>\n",
       "    </tr>\n",
       "    <tr>\n",
       "      <th>3204</th>\n",
       "      <td>8/15/14 16:21</td>\n",
       "      <td>Getting covered made Jason so happy he wanted ...</td>\n",
       "      <td>https://twitter.com/BarackObama/status/5003164...</td>\n",
       "      <td>206</td>\n",
       "      <td>261</td>\n",
       "      <td>721</td>\n",
       "      <td>BarackObama</td>\n",
       "    </tr>\n",
       "    <tr>\n",
       "      <th>3205</th>\n",
       "      <td>8/15/14 15:15</td>\n",
       "      <td>It's time to get serious and #ActOnClimate. ht...</td>\n",
       "      <td>https://twitter.com/BarackObama/status/5002997...</td>\n",
       "      <td>509</td>\n",
       "      <td>2009</td>\n",
       "      <td>2273</td>\n",
       "      <td>BarackObama</td>\n",
       "    </tr>\n",
       "    <tr>\n",
       "      <th>3206</th>\n",
       "      <td>8/14/14 16:50</td>\n",
       "      <td>Happening now: President Obama is delivering a...</td>\n",
       "      <td>https://twitter.com/BarackObama/status/4999611...</td>\n",
       "      <td>583</td>\n",
       "      <td>1243</td>\n",
       "      <td>961</td>\n",
       "      <td>BarackObama</td>\n",
       "    </tr>\n",
       "  </tbody>\n",
       "</table>\n",
       "<p>3207 rows × 7 columns</p>\n",
       "</div>"
      ],
      "text/plain": [
       "          created_at                                               text  \\\n",
       "0     10/16/17 22:59  I'm grateful to @SenJohnMcCain for his lifetim...   \n",
       "1      10/2/17 12:41  Michelle &amp; I are praying for the victims i...   \n",
       "2       9/30/17 2:22  Proud to cheer on Team USA at the Invictus Gam...   \n",
       "3      9/26/17 17:03  We're expanding our efforts to help Puerto Ric...   \n",
       "4      9/25/17 23:36  Prosecutor, soldier, family man, citizen. Beau...   \n",
       "...              ...                                                ...   \n",
       "3202   8/15/14 20:16  Earning the minimum wage while raising a famil...   \n",
       "3203   8/15/14 18:02  FACT: 97% of scientists and NASA accept the sc...   \n",
       "3204   8/15/14 16:21  Getting covered made Jason so happy he wanted ...   \n",
       "3205   8/15/14 15:15  It's time to get serious and #ActOnClimate. ht...   \n",
       "3206   8/14/14 16:50  Happening now: President Obama is delivering a...   \n",
       "\n",
       "                                                    url  replies  retweets  \\\n",
       "0     https://twitter.com/BarackObama/status/9200615...    17064     89916   \n",
       "1     https://twitter.com/BarackObama/status/9148326...    21588    405895   \n",
       "2     https://twitter.com/BarackObama/status/9139520...     8476     60651   \n",
       "3     https://twitter.com/BarackObama/status/9127244...    10657    113807   \n",
       "4     https://twitter.com/BarackObama/status/9124608...     3886     58449   \n",
       "...                                                 ...      ...       ...   \n",
       "3202  https://twitter.com/BarackObama/status/5003754...      536      1520   \n",
       "3203  https://twitter.com/BarackObama/status/5003418...      531      2103   \n",
       "3204  https://twitter.com/BarackObama/status/5003164...      206       261   \n",
       "3205  https://twitter.com/BarackObama/status/5002997...      509      2009   \n",
       "3206  https://twitter.com/BarackObama/status/4999611...      583      1243   \n",
       "\n",
       "      favorites         user  \n",
       "0        641842  BarackObama  \n",
       "1       1715753  BarackObama  \n",
       "2        503255  BarackObama  \n",
       "3        334901  BarackObama  \n",
       "4        328106  BarackObama  \n",
       "...         ...          ...  \n",
       "3202       2155  BarackObama  \n",
       "3203       2377  BarackObama  \n",
       "3204        721  BarackObama  \n",
       "3205       2273  BarackObama  \n",
       "3206        961  BarackObama  \n",
       "\n",
       "[3207 rows x 7 columns]"
      ]
     },
     "execution_count": 87,
     "metadata": {},
     "output_type": "execute_result"
    }
   ],
   "source": [
    "#print obama tweets\n",
    "obama_tweets"
   ]
  },
  {
   "cell_type": "code",
   "execution_count": 88,
   "id": "6ef746ab-ef98-4145-887e-62d5d81d77e1",
   "metadata": {},
   "outputs": [],
   "source": [
    "#assign text only\n",
    "obama_text = obama_tweets['text']"
   ]
  },
  {
   "cell_type": "code",
   "execution_count": 89,
   "id": "d0a26563-56b0-4a18-bf31-1c101adf4906",
   "metadata": {},
   "outputs": [
    {
     "name": "stderr",
     "output_type": "stream",
     "text": [
      "[nltk_data] Downloading package vader_lexicon to\n",
      "[nltk_data]     /home/jovyan/nltk_data...\n",
      "[nltk_data]   Package vader_lexicon is already up-to-date!\n"
     ]
    }
   ],
   "source": [
    "#import VADER analyzer\n",
    "import nltk\n",
    "nltk.download('vader_lexicon')\n",
    "from nltk.sentiment.vader import SentimentIntensityAnalyzer\n",
    "sia = SentimentIntensityAnalyzer()"
   ]
  },
  {
   "cell_type": "code",
   "execution_count": 90,
   "id": "bf5da288-a49e-4b50-b413-c04bbb36e3c8",
   "metadata": {},
   "outputs": [
    {
     "name": "stdout",
     "output_type": "stream",
     "text": [
      "Two dozen NFL players continue to kneel during the National Anthem, showing total disrespect to our Flag &amp; Country.  No leadership in NFL!\n"
     ]
    },
    {
     "data": {
      "text/plain": [
       "{'neg': 0.201, 'neu': 0.799, 'pos': 0.0, 'compound': -0.6476}"
      ]
     },
     "execution_count": 90,
     "metadata": {},
     "output_type": "execute_result"
    }
   ],
   "source": [
    "#test on one tweet\n",
    "a = trump_text[1]\n",
    "print(a)\n",
    "sia.polarity_scores(a)"
   ]
  },
  {
   "cell_type": "code",
   "execution_count": 91,
   "id": "fa298dc3-3e34-4869-bbaf-c1f2c3a0266e",
   "metadata": {},
   "outputs": [
    {
     "data": {
      "text/html": [
       "<div>\n",
       "<style scoped>\n",
       "    .dataframe tbody tr th:only-of-type {\n",
       "        vertical-align: middle;\n",
       "    }\n",
       "\n",
       "    .dataframe tbody tr th {\n",
       "        vertical-align: top;\n",
       "    }\n",
       "\n",
       "    .dataframe thead th {\n",
       "        text-align: right;\n",
       "    }\n",
       "</style>\n",
       "<table border=\"1\" class=\"dataframe\">\n",
       "  <thead>\n",
       "    <tr style=\"text-align: right;\">\n",
       "      <th></th>\n",
       "      <th>created_at</th>\n",
       "      <th>text</th>\n",
       "      <th>url</th>\n",
       "      <th>replies</th>\n",
       "      <th>retweets</th>\n",
       "      <th>favorites</th>\n",
       "      <th>user</th>\n",
       "      <th>VADER Sentiment Intensity</th>\n",
       "    </tr>\n",
       "  </thead>\n",
       "  <tbody>\n",
       "    <tr>\n",
       "      <th>0</th>\n",
       "      <td>10/16/17 22:59</td>\n",
       "      <td>I'm grateful to @SenJohnMcCain for his lifetim...</td>\n",
       "      <td>https://twitter.com/BarackObama/status/9200615...</td>\n",
       "      <td>17064</td>\n",
       "      <td>89916</td>\n",
       "      <td>641842</td>\n",
       "      <td>BarackObama</td>\n",
       "      <td>NaN</td>\n",
       "    </tr>\n",
       "    <tr>\n",
       "      <th>1</th>\n",
       "      <td>10/2/17 12:41</td>\n",
       "      <td>Michelle &amp;amp; I are praying for the victims i...</td>\n",
       "      <td>https://twitter.com/BarackObama/status/9148326...</td>\n",
       "      <td>21588</td>\n",
       "      <td>405895</td>\n",
       "      <td>1715753</td>\n",
       "      <td>BarackObama</td>\n",
       "      <td>NaN</td>\n",
       "    </tr>\n",
       "    <tr>\n",
       "      <th>2</th>\n",
       "      <td>9/30/17 2:22</td>\n",
       "      <td>Proud to cheer on Team USA at the Invictus Gam...</td>\n",
       "      <td>https://twitter.com/BarackObama/status/9139520...</td>\n",
       "      <td>8476</td>\n",
       "      <td>60651</td>\n",
       "      <td>503255</td>\n",
       "      <td>BarackObama</td>\n",
       "      <td>NaN</td>\n",
       "    </tr>\n",
       "    <tr>\n",
       "      <th>3</th>\n",
       "      <td>9/26/17 17:03</td>\n",
       "      <td>We're expanding our efforts to help Puerto Ric...</td>\n",
       "      <td>https://twitter.com/BarackObama/status/9127244...</td>\n",
       "      <td>10657</td>\n",
       "      <td>113807</td>\n",
       "      <td>334901</td>\n",
       "      <td>BarackObama</td>\n",
       "      <td>NaN</td>\n",
       "    </tr>\n",
       "    <tr>\n",
       "      <th>4</th>\n",
       "      <td>9/25/17 23:36</td>\n",
       "      <td>Prosecutor, soldier, family man, citizen. Beau...</td>\n",
       "      <td>https://twitter.com/BarackObama/status/9124608...</td>\n",
       "      <td>3886</td>\n",
       "      <td>58449</td>\n",
       "      <td>328106</td>\n",
       "      <td>BarackObama</td>\n",
       "      <td>NaN</td>\n",
       "    </tr>\n",
       "    <tr>\n",
       "      <th>...</th>\n",
       "      <td>...</td>\n",
       "      <td>...</td>\n",
       "      <td>...</td>\n",
       "      <td>...</td>\n",
       "      <td>...</td>\n",
       "      <td>...</td>\n",
       "      <td>...</td>\n",
       "      <td>...</td>\n",
       "    </tr>\n",
       "    <tr>\n",
       "      <th>3202</th>\n",
       "      <td>8/15/14 20:16</td>\n",
       "      <td>Earning the minimum wage while raising a famil...</td>\n",
       "      <td>https://twitter.com/BarackObama/status/5003754...</td>\n",
       "      <td>536</td>\n",
       "      <td>1520</td>\n",
       "      <td>2155</td>\n",
       "      <td>BarackObama</td>\n",
       "      <td>NaN</td>\n",
       "    </tr>\n",
       "    <tr>\n",
       "      <th>3203</th>\n",
       "      <td>8/15/14 18:02</td>\n",
       "      <td>FACT: 97% of scientists and NASA accept the sc...</td>\n",
       "      <td>https://twitter.com/BarackObama/status/5003418...</td>\n",
       "      <td>531</td>\n",
       "      <td>2103</td>\n",
       "      <td>2377</td>\n",
       "      <td>BarackObama</td>\n",
       "      <td>NaN</td>\n",
       "    </tr>\n",
       "    <tr>\n",
       "      <th>3204</th>\n",
       "      <td>8/15/14 16:21</td>\n",
       "      <td>Getting covered made Jason so happy he wanted ...</td>\n",
       "      <td>https://twitter.com/BarackObama/status/5003164...</td>\n",
       "      <td>206</td>\n",
       "      <td>261</td>\n",
       "      <td>721</td>\n",
       "      <td>BarackObama</td>\n",
       "      <td>NaN</td>\n",
       "    </tr>\n",
       "    <tr>\n",
       "      <th>3205</th>\n",
       "      <td>8/15/14 15:15</td>\n",
       "      <td>It's time to get serious and #ActOnClimate. ht...</td>\n",
       "      <td>https://twitter.com/BarackObama/status/5002997...</td>\n",
       "      <td>509</td>\n",
       "      <td>2009</td>\n",
       "      <td>2273</td>\n",
       "      <td>BarackObama</td>\n",
       "      <td>NaN</td>\n",
       "    </tr>\n",
       "    <tr>\n",
       "      <th>3206</th>\n",
       "      <td>8/14/14 16:50</td>\n",
       "      <td>Happening now: President Obama is delivering a...</td>\n",
       "      <td>https://twitter.com/BarackObama/status/4999611...</td>\n",
       "      <td>583</td>\n",
       "      <td>1243</td>\n",
       "      <td>961</td>\n",
       "      <td>BarackObama</td>\n",
       "      <td>NaN</td>\n",
       "    </tr>\n",
       "  </tbody>\n",
       "</table>\n",
       "<p>3207 rows × 8 columns</p>\n",
       "</div>"
      ],
      "text/plain": [
       "          created_at                                               text  \\\n",
       "0     10/16/17 22:59  I'm grateful to @SenJohnMcCain for his lifetim...   \n",
       "1      10/2/17 12:41  Michelle &amp; I are praying for the victims i...   \n",
       "2       9/30/17 2:22  Proud to cheer on Team USA at the Invictus Gam...   \n",
       "3      9/26/17 17:03  We're expanding our efforts to help Puerto Ric...   \n",
       "4      9/25/17 23:36  Prosecutor, soldier, family man, citizen. Beau...   \n",
       "...              ...                                                ...   \n",
       "3202   8/15/14 20:16  Earning the minimum wage while raising a famil...   \n",
       "3203   8/15/14 18:02  FACT: 97% of scientists and NASA accept the sc...   \n",
       "3204   8/15/14 16:21  Getting covered made Jason so happy he wanted ...   \n",
       "3205   8/15/14 15:15  It's time to get serious and #ActOnClimate. ht...   \n",
       "3206   8/14/14 16:50  Happening now: President Obama is delivering a...   \n",
       "\n",
       "                                                    url  replies  retweets  \\\n",
       "0     https://twitter.com/BarackObama/status/9200615...    17064     89916   \n",
       "1     https://twitter.com/BarackObama/status/9148326...    21588    405895   \n",
       "2     https://twitter.com/BarackObama/status/9139520...     8476     60651   \n",
       "3     https://twitter.com/BarackObama/status/9127244...    10657    113807   \n",
       "4     https://twitter.com/BarackObama/status/9124608...     3886     58449   \n",
       "...                                                 ...      ...       ...   \n",
       "3202  https://twitter.com/BarackObama/status/5003754...      536      1520   \n",
       "3203  https://twitter.com/BarackObama/status/5003418...      531      2103   \n",
       "3204  https://twitter.com/BarackObama/status/5003164...      206       261   \n",
       "3205  https://twitter.com/BarackObama/status/5002997...      509      2009   \n",
       "3206  https://twitter.com/BarackObama/status/4999611...      583      1243   \n",
       "\n",
       "      favorites         user VADER Sentiment Intensity  \n",
       "0        641842  BarackObama                       NaN  \n",
       "1       1715753  BarackObama                       NaN  \n",
       "2        503255  BarackObama                       NaN  \n",
       "3        334901  BarackObama                       NaN  \n",
       "4        328106  BarackObama                       NaN  \n",
       "...         ...          ...                       ...  \n",
       "3202       2155  BarackObama                       NaN  \n",
       "3203       2377  BarackObama                       NaN  \n",
       "3204        721  BarackObama                       NaN  \n",
       "3205       2273  BarackObama                       NaN  \n",
       "3206        961  BarackObama                       NaN  \n",
       "\n",
       "[3207 rows x 8 columns]"
      ]
     },
     "execution_count": 91,
     "metadata": {},
     "output_type": "execute_result"
    }
   ],
   "source": [
    "#create VADER column\n",
    "obama_tweets['VADER Sentiment Intensity'] = 'NaN'\n",
    "obama_tweets"
   ]
  },
  {
   "cell_type": "code",
   "execution_count": 92,
   "id": "7f60051d-29a4-448b-a012-19a585ed5dd8",
   "metadata": {},
   "outputs": [
    {
     "data": {
      "text/html": [
       "<div>\n",
       "<style scoped>\n",
       "    .dataframe tbody tr th:only-of-type {\n",
       "        vertical-align: middle;\n",
       "    }\n",
       "\n",
       "    .dataframe tbody tr th {\n",
       "        vertical-align: top;\n",
       "    }\n",
       "\n",
       "    .dataframe thead th {\n",
       "        text-align: right;\n",
       "    }\n",
       "</style>\n",
       "<table border=\"1\" class=\"dataframe\">\n",
       "  <thead>\n",
       "    <tr style=\"text-align: right;\">\n",
       "      <th></th>\n",
       "      <th>created_at</th>\n",
       "      <th>text</th>\n",
       "      <th>url</th>\n",
       "      <th>replies</th>\n",
       "      <th>retweets</th>\n",
       "      <th>favorites</th>\n",
       "      <th>user</th>\n",
       "      <th>VADER Sentiment Intensity</th>\n",
       "    </tr>\n",
       "  </thead>\n",
       "  <tbody>\n",
       "    <tr>\n",
       "      <th>0</th>\n",
       "      <td>10/23/17 12:30</td>\n",
       "      <td>I had a very respectful conversation with the ...</td>\n",
       "      <td>https://twitter.com/realDonaldTrump/status/922...</td>\n",
       "      <td>46228</td>\n",
       "      <td>10243</td>\n",
       "      <td>49468</td>\n",
       "      <td>realDonaldTrump</td>\n",
       "      <td>NaN</td>\n",
       "    </tr>\n",
       "    <tr>\n",
       "      <th>1</th>\n",
       "      <td>10/23/17 11:53</td>\n",
       "      <td>Two dozen NFL players continue to kneel during...</td>\n",
       "      <td>https://twitter.com/realDonaldTrump/status/922...</td>\n",
       "      <td>31419</td>\n",
       "      <td>14006</td>\n",
       "      <td>62406</td>\n",
       "      <td>realDonaldTrump</td>\n",
       "      <td>NaN</td>\n",
       "    </tr>\n",
       "    <tr>\n",
       "      <th>2</th>\n",
       "      <td>10/23/17 11:42</td>\n",
       "      <td>There will be NO change to your 401(k). This h...</td>\n",
       "      <td>https://twitter.com/realDonaldTrump/status/922...</td>\n",
       "      <td>9552</td>\n",
       "      <td>13719</td>\n",
       "      <td>62662</td>\n",
       "      <td>realDonaldTrump</td>\n",
       "      <td>NaN</td>\n",
       "    </tr>\n",
       "    <tr>\n",
       "      <th>3</th>\n",
       "      <td>10/22/17 12:08</td>\n",
       "      <td>It is finally sinking through. 46% OF PEOPLE B...</td>\n",
       "      <td>https://twitter.com/realDonaldTrump/status/922...</td>\n",
       "      <td>56238</td>\n",
       "      <td>25102</td>\n",
       "      <td>112890</td>\n",
       "      <td>realDonaldTrump</td>\n",
       "      <td>NaN</td>\n",
       "    </tr>\n",
       "    <tr>\n",
       "      <th>4</th>\n",
       "      <td>10/22/17 12:02</td>\n",
       "      <td>Wacky Congresswoman Wilson is the gift that ke...</td>\n",
       "      <td>https://twitter.com/realDonaldTrump/status/922...</td>\n",
       "      <td>32136</td>\n",
       "      <td>21573</td>\n",
       "      <td>97145</td>\n",
       "      <td>realDonaldTrump</td>\n",
       "      <td>NaN</td>\n",
       "    </tr>\n",
       "    <tr>\n",
       "      <th>...</th>\n",
       "      <td>...</td>\n",
       "      <td>...</td>\n",
       "      <td>...</td>\n",
       "      <td>...</td>\n",
       "      <td>...</td>\n",
       "      <td>...</td>\n",
       "      <td>...</td>\n",
       "      <td>...</td>\n",
       "    </tr>\n",
       "    <tr>\n",
       "      <th>3227</th>\n",
       "      <td>8/24/16 22:39</td>\n",
       "      <td>Thank you for your support!\\r#AmericaFirst #Im...</td>\n",
       "      <td>https://twitter.com/realDonaldTrump/status/768...</td>\n",
       "      <td>1693</td>\n",
       "      <td>6441</td>\n",
       "      <td>18401</td>\n",
       "      <td>realDonaldTrump</td>\n",
       "      <td>NaN</td>\n",
       "    </tr>\n",
       "    <tr>\n",
       "      <th>3228</th>\n",
       "      <td>8/24/16 21:32</td>\n",
       "      <td>A great afternoon in Tampa, Florida. Thank you...</td>\n",
       "      <td>https://twitter.com/realDonaldTrump/status/768...</td>\n",
       "      <td>1148</td>\n",
       "      <td>4837</td>\n",
       "      <td>16968</td>\n",
       "      <td>realDonaldTrump</td>\n",
       "      <td>NaN</td>\n",
       "    </tr>\n",
       "    <tr>\n",
       "      <th>3229</th>\n",
       "      <td>8/24/16 17:24</td>\n",
       "      <td>New national poll released. Join the MOVEMENT ...</td>\n",
       "      <td>https://twitter.com/realDonaldTrump/status/768...</td>\n",
       "      <td>2737</td>\n",
       "      <td>5991</td>\n",
       "      <td>16619</td>\n",
       "      <td>realDonaldTrump</td>\n",
       "      <td>NaN</td>\n",
       "    </tr>\n",
       "    <tr>\n",
       "      <th>3230</th>\n",
       "      <td>8/24/16 16:42</td>\n",
       "      <td>Great new poll Florida - thank you! #MakeAmeri...</td>\n",
       "      <td>https://twitter.com/realDonaldTrump/status/768...</td>\n",
       "      <td>1888</td>\n",
       "      <td>7288</td>\n",
       "      <td>20072</td>\n",
       "      <td>realDonaldTrump</td>\n",
       "      <td>NaN</td>\n",
       "    </tr>\n",
       "    <tr>\n",
       "      <th>3231</th>\n",
       "      <td>8/24/16 15:19</td>\n",
       "      <td>I will not let the families of The Remembrance...</td>\n",
       "      <td>https://twitter.com/realDonaldTrump/status/768...</td>\n",
       "      <td>1178</td>\n",
       "      <td>6809</td>\n",
       "      <td>15973</td>\n",
       "      <td>realDonaldTrump</td>\n",
       "      <td>NaN</td>\n",
       "    </tr>\n",
       "  </tbody>\n",
       "</table>\n",
       "<p>3232 rows × 8 columns</p>\n",
       "</div>"
      ],
      "text/plain": [
       "          created_at                                               text  \\\n",
       "0     10/23/17 12:30  I had a very respectful conversation with the ...   \n",
       "1     10/23/17 11:53  Two dozen NFL players continue to kneel during...   \n",
       "2     10/23/17 11:42  There will be NO change to your 401(k). This h...   \n",
       "3     10/22/17 12:08  It is finally sinking through. 46% OF PEOPLE B...   \n",
       "4     10/22/17 12:02  Wacky Congresswoman Wilson is the gift that ke...   \n",
       "...              ...                                                ...   \n",
       "3227   8/24/16 22:39  Thank you for your support!\\r#AmericaFirst #Im...   \n",
       "3228   8/24/16 21:32  A great afternoon in Tampa, Florida. Thank you...   \n",
       "3229   8/24/16 17:24  New national poll released. Join the MOVEMENT ...   \n",
       "3230   8/24/16 16:42  Great new poll Florida - thank you! #MakeAmeri...   \n",
       "3231   8/24/16 15:19  I will not let the families of The Remembrance...   \n",
       "\n",
       "                                                    url  replies  retweets  \\\n",
       "0     https://twitter.com/realDonaldTrump/status/922...    46228     10243   \n",
       "1     https://twitter.com/realDonaldTrump/status/922...    31419     14006   \n",
       "2     https://twitter.com/realDonaldTrump/status/922...     9552     13719   \n",
       "3     https://twitter.com/realDonaldTrump/status/922...    56238     25102   \n",
       "4     https://twitter.com/realDonaldTrump/status/922...    32136     21573   \n",
       "...                                                 ...      ...       ...   \n",
       "3227  https://twitter.com/realDonaldTrump/status/768...     1693      6441   \n",
       "3228  https://twitter.com/realDonaldTrump/status/768...     1148      4837   \n",
       "3229  https://twitter.com/realDonaldTrump/status/768...     2737      5991   \n",
       "3230  https://twitter.com/realDonaldTrump/status/768...     1888      7288   \n",
       "3231  https://twitter.com/realDonaldTrump/status/768...     1178      6809   \n",
       "\n",
       "      favorites             user VADER Sentiment Intensity  \n",
       "0         49468  realDonaldTrump                       NaN  \n",
       "1         62406  realDonaldTrump                       NaN  \n",
       "2         62662  realDonaldTrump                       NaN  \n",
       "3        112890  realDonaldTrump                       NaN  \n",
       "4         97145  realDonaldTrump                       NaN  \n",
       "...         ...              ...                       ...  \n",
       "3227      18401  realDonaldTrump                       NaN  \n",
       "3228      16968  realDonaldTrump                       NaN  \n",
       "3229      16619  realDonaldTrump                       NaN  \n",
       "3230      20072  realDonaldTrump                       NaN  \n",
       "3231      15973  realDonaldTrump                       NaN  \n",
       "\n",
       "[3232 rows x 8 columns]"
      ]
     },
     "execution_count": 92,
     "metadata": {},
     "output_type": "execute_result"
    }
   ],
   "source": [
    "#create VADER column\n",
    "trump_tweets['VADER Sentiment Intensity'] = 'NaN'\n",
    "trump_tweets"
   ]
  },
  {
   "cell_type": "code",
   "execution_count": 93,
   "id": "94c205bb-9058-41fe-8153-290f7e037a36",
   "metadata": {},
   "outputs": [
    {
     "data": {
      "text/plain": [
       "0       NaN\n",
       "1       NaN\n",
       "2       NaN\n",
       "3       NaN\n",
       "4       NaN\n",
       "       ... \n",
       "3202    NaN\n",
       "3203    NaN\n",
       "3204    NaN\n",
       "3205    NaN\n",
       "3206    NaN\n",
       "Name: VADER Sentiment Intensity, Length: 3207, dtype: object"
      ]
     },
     "execution_count": 93,
     "metadata": {},
     "output_type": "execute_result"
    }
   ],
   "source": [
    "obama_tweets['VADER Sentiment Intensity']"
   ]
  },
  {
   "cell_type": "code",
   "execution_count": 94,
   "id": "6cb817d4-6569-4bf3-a4fa-0445ddc5f8ea",
   "metadata": {},
   "outputs": [
    {
     "data": {
      "text/plain": [
       "0       NaN\n",
       "1       NaN\n",
       "2       NaN\n",
       "3       NaN\n",
       "4       NaN\n",
       "       ... \n",
       "3227    NaN\n",
       "3228    NaN\n",
       "3229    NaN\n",
       "3230    NaN\n",
       "3231    NaN\n",
       "Name: VADER Sentiment Intensity, Length: 3232, dtype: object"
      ]
     },
     "execution_count": 94,
     "metadata": {},
     "output_type": "execute_result"
    }
   ],
   "source": [
    "trump_tweets['VADER Sentiment Intensity']"
   ]
  },
  {
   "cell_type": "code",
   "execution_count": 95,
   "id": "b097eb47-5cd2-4fa3-8839-1f6caaf91115",
   "metadata": {},
   "outputs": [
    {
     "data": {
      "text/html": [
       "<div>\n",
       "<style scoped>\n",
       "    .dataframe tbody tr th:only-of-type {\n",
       "        vertical-align: middle;\n",
       "    }\n",
       "\n",
       "    .dataframe tbody tr th {\n",
       "        vertical-align: top;\n",
       "    }\n",
       "\n",
       "    .dataframe thead th {\n",
       "        text-align: right;\n",
       "    }\n",
       "</style>\n",
       "<table border=\"1\" class=\"dataframe\">\n",
       "  <thead>\n",
       "    <tr style=\"text-align: right;\">\n",
       "      <th></th>\n",
       "      <th>created_at</th>\n",
       "      <th>text</th>\n",
       "      <th>url</th>\n",
       "      <th>replies</th>\n",
       "      <th>retweets</th>\n",
       "      <th>favorites</th>\n",
       "      <th>user</th>\n",
       "      <th>VADER Sentiment Intensity</th>\n",
       "      <th>compound</th>\n",
       "      <th>comp_score</th>\n",
       "    </tr>\n",
       "  </thead>\n",
       "  <tbody>\n",
       "    <tr>\n",
       "      <th>0</th>\n",
       "      <td>10/16/17 22:59</td>\n",
       "      <td>I'm grateful to @SenJohnMcCain for his lifetim...</td>\n",
       "      <td>https://twitter.com/BarackObama/status/9200615...</td>\n",
       "      <td>17064</td>\n",
       "      <td>89916</td>\n",
       "      <td>641842</td>\n",
       "      <td>BarackObama</td>\n",
       "      <td>{'neg': 0.0, 'neu': 0.544, 'pos': 0.456, 'comp...</td>\n",
       "      <td>0.9246</td>\n",
       "      <td>pos</td>\n",
       "    </tr>\n",
       "    <tr>\n",
       "      <th>1</th>\n",
       "      <td>10/2/17 12:41</td>\n",
       "      <td>Michelle &amp;amp; I are praying for the victims i...</td>\n",
       "      <td>https://twitter.com/BarackObama/status/9148326...</td>\n",
       "      <td>21588</td>\n",
       "      <td>405895</td>\n",
       "      <td>1715753</td>\n",
       "      <td>BarackObama</td>\n",
       "      <td>{'neg': 0.238, 'neu': 0.674, 'pos': 0.089, 'co...</td>\n",
       "      <td>-0.6369</td>\n",
       "      <td>neg</td>\n",
       "    </tr>\n",
       "    <tr>\n",
       "      <th>2</th>\n",
       "      <td>9/30/17 2:22</td>\n",
       "      <td>Proud to cheer on Team USA at the Invictus Gam...</td>\n",
       "      <td>https://twitter.com/BarackObama/status/9139520...</td>\n",
       "      <td>8476</td>\n",
       "      <td>60651</td>\n",
       "      <td>503255</td>\n",
       "      <td>BarackObama</td>\n",
       "      <td>{'neg': 0.0, 'neu': 0.579, 'pos': 0.421, 'comp...</td>\n",
       "      <td>0.9300</td>\n",
       "      <td>pos</td>\n",
       "    </tr>\n",
       "    <tr>\n",
       "      <th>3</th>\n",
       "      <td>9/26/17 17:03</td>\n",
       "      <td>We're expanding our efforts to help Puerto Ric...</td>\n",
       "      <td>https://twitter.com/BarackObama/status/9127244...</td>\n",
       "      <td>10657</td>\n",
       "      <td>113807</td>\n",
       "      <td>334901</td>\n",
       "      <td>BarackObama</td>\n",
       "      <td>{'neg': 0.0, 'neu': 0.811, 'pos': 0.189, 'comp...</td>\n",
       "      <td>0.5994</td>\n",
       "      <td>pos</td>\n",
       "    </tr>\n",
       "    <tr>\n",
       "      <th>4</th>\n",
       "      <td>9/25/17 23:36</td>\n",
       "      <td>Prosecutor, soldier, family man, citizen. Beau...</td>\n",
       "      <td>https://twitter.com/BarackObama/status/9124608...</td>\n",
       "      <td>3886</td>\n",
       "      <td>58449</td>\n",
       "      <td>328106</td>\n",
       "      <td>BarackObama</td>\n",
       "      <td>{'neg': 0.056, 'neu': 0.748, 'pos': 0.196, 'co...</td>\n",
       "      <td>0.4588</td>\n",
       "      <td>pos</td>\n",
       "    </tr>\n",
       "  </tbody>\n",
       "</table>\n",
       "</div>"
      ],
      "text/plain": [
       "       created_at                                               text  \\\n",
       "0  10/16/17 22:59  I'm grateful to @SenJohnMcCain for his lifetim...   \n",
       "1   10/2/17 12:41  Michelle &amp; I are praying for the victims i...   \n",
       "2    9/30/17 2:22  Proud to cheer on Team USA at the Invictus Gam...   \n",
       "3   9/26/17 17:03  We're expanding our efforts to help Puerto Ric...   \n",
       "4   9/25/17 23:36  Prosecutor, soldier, family man, citizen. Beau...   \n",
       "\n",
       "                                                 url  replies  retweets  \\\n",
       "0  https://twitter.com/BarackObama/status/9200615...    17064     89916   \n",
       "1  https://twitter.com/BarackObama/status/9148326...    21588    405895   \n",
       "2  https://twitter.com/BarackObama/status/9139520...     8476     60651   \n",
       "3  https://twitter.com/BarackObama/status/9127244...    10657    113807   \n",
       "4  https://twitter.com/BarackObama/status/9124608...     3886     58449   \n",
       "\n",
       "   favorites         user                          VADER Sentiment Intensity  \\\n",
       "0     641842  BarackObama  {'neg': 0.0, 'neu': 0.544, 'pos': 0.456, 'comp...   \n",
       "1    1715753  BarackObama  {'neg': 0.238, 'neu': 0.674, 'pos': 0.089, 'co...   \n",
       "2     503255  BarackObama  {'neg': 0.0, 'neu': 0.579, 'pos': 0.421, 'comp...   \n",
       "3     334901  BarackObama  {'neg': 0.0, 'neu': 0.811, 'pos': 0.189, 'comp...   \n",
       "4     328106  BarackObama  {'neg': 0.056, 'neu': 0.748, 'pos': 0.196, 'co...   \n",
       "\n",
       "   compound comp_score  \n",
       "0    0.9246        pos  \n",
       "1   -0.6369        neg  \n",
       "2    0.9300        pos  \n",
       "3    0.5994        pos  \n",
       "4    0.4588        pos  "
      ]
     },
     "execution_count": 95,
     "metadata": {},
     "output_type": "execute_result"
    }
   ],
   "source": [
    "#fill column for VADER, isolate compound score, determine pos/neg\n",
    "obama_tweets['VADER Sentiment Intensity'] = obama_tweets['text'].apply(lambda review: sia.polarity_scores(review))\n",
    "obama_tweets['compound']  = obama_tweets['VADER Sentiment Intensity'].apply(lambda score_dict: score_dict['compound'])\n",
    "obama_tweets['comp_score'] = obama_tweets['compound'].apply(lambda c: 'pos' if c >=0 else 'neg')\n",
    "obama_tweets.head()"
   ]
  },
  {
   "cell_type": "code",
   "execution_count": 96,
   "id": "c0e046a9-c5fd-4117-bef6-89a1e6362202",
   "metadata": {},
   "outputs": [
    {
     "data": {
      "text/html": [
       "<div>\n",
       "<style scoped>\n",
       "    .dataframe tbody tr th:only-of-type {\n",
       "        vertical-align: middle;\n",
       "    }\n",
       "\n",
       "    .dataframe tbody tr th {\n",
       "        vertical-align: top;\n",
       "    }\n",
       "\n",
       "    .dataframe thead th {\n",
       "        text-align: right;\n",
       "    }\n",
       "</style>\n",
       "<table border=\"1\" class=\"dataframe\">\n",
       "  <thead>\n",
       "    <tr style=\"text-align: right;\">\n",
       "      <th></th>\n",
       "      <th>created_at</th>\n",
       "      <th>text</th>\n",
       "      <th>url</th>\n",
       "      <th>replies</th>\n",
       "      <th>retweets</th>\n",
       "      <th>favorites</th>\n",
       "      <th>user</th>\n",
       "      <th>VADER Sentiment Intensity</th>\n",
       "      <th>compound</th>\n",
       "      <th>comp_score</th>\n",
       "    </tr>\n",
       "  </thead>\n",
       "  <tbody>\n",
       "    <tr>\n",
       "      <th>0</th>\n",
       "      <td>10/23/17 12:30</td>\n",
       "      <td>I had a very respectful conversation with the ...</td>\n",
       "      <td>https://twitter.com/realDonaldTrump/status/922...</td>\n",
       "      <td>46228</td>\n",
       "      <td>10243</td>\n",
       "      <td>49468</td>\n",
       "      <td>realDonaldTrump</td>\n",
       "      <td>{'neg': 0.0, 'neu': 0.769, 'pos': 0.231, 'comp...</td>\n",
       "      <td>0.6596</td>\n",
       "      <td>pos</td>\n",
       "    </tr>\n",
       "    <tr>\n",
       "      <th>1</th>\n",
       "      <td>10/23/17 11:53</td>\n",
       "      <td>Two dozen NFL players continue to kneel during...</td>\n",
       "      <td>https://twitter.com/realDonaldTrump/status/922...</td>\n",
       "      <td>31419</td>\n",
       "      <td>14006</td>\n",
       "      <td>62406</td>\n",
       "      <td>realDonaldTrump</td>\n",
       "      <td>{'neg': 0.201, 'neu': 0.799, 'pos': 0.0, 'comp...</td>\n",
       "      <td>-0.6476</td>\n",
       "      <td>neg</td>\n",
       "    </tr>\n",
       "    <tr>\n",
       "      <th>2</th>\n",
       "      <td>10/23/17 11:42</td>\n",
       "      <td>There will be NO change to your 401(k). This h...</td>\n",
       "      <td>https://twitter.com/realDonaldTrump/status/922...</td>\n",
       "      <td>9552</td>\n",
       "      <td>13719</td>\n",
       "      <td>62662</td>\n",
       "      <td>realDonaldTrump</td>\n",
       "      <td>{'neg': 0.094, 'neu': 0.675, 'pos': 0.231, 'co...</td>\n",
       "      <td>0.6439</td>\n",
       "      <td>pos</td>\n",
       "    </tr>\n",
       "    <tr>\n",
       "      <th>3</th>\n",
       "      <td>10/22/17 12:08</td>\n",
       "      <td>It is finally sinking through. 46% OF PEOPLE B...</td>\n",
       "      <td>https://twitter.com/realDonaldTrump/status/922...</td>\n",
       "      <td>56238</td>\n",
       "      <td>25102</td>\n",
       "      <td>112890</td>\n",
       "      <td>realDonaldTrump</td>\n",
       "      <td>{'neg': 0.323, 'neu': 0.677, 'pos': 0.0, 'comp...</td>\n",
       "      <td>-0.8599</td>\n",
       "      <td>neg</td>\n",
       "    </tr>\n",
       "    <tr>\n",
       "      <th>4</th>\n",
       "      <td>10/22/17 12:02</td>\n",
       "      <td>Wacky Congresswoman Wilson is the gift that ke...</td>\n",
       "      <td>https://twitter.com/realDonaldTrump/status/922...</td>\n",
       "      <td>32136</td>\n",
       "      <td>21573</td>\n",
       "      <td>97145</td>\n",
       "      <td>realDonaldTrump</td>\n",
       "      <td>{'neg': 0.123, 'neu': 0.629, 'pos': 0.248, 'co...</td>\n",
       "      <td>0.4926</td>\n",
       "      <td>pos</td>\n",
       "    </tr>\n",
       "  </tbody>\n",
       "</table>\n",
       "</div>"
      ],
      "text/plain": [
       "       created_at                                               text  \\\n",
       "0  10/23/17 12:30  I had a very respectful conversation with the ...   \n",
       "1  10/23/17 11:53  Two dozen NFL players continue to kneel during...   \n",
       "2  10/23/17 11:42  There will be NO change to your 401(k). This h...   \n",
       "3  10/22/17 12:08  It is finally sinking through. 46% OF PEOPLE B...   \n",
       "4  10/22/17 12:02  Wacky Congresswoman Wilson is the gift that ke...   \n",
       "\n",
       "                                                 url  replies  retweets  \\\n",
       "0  https://twitter.com/realDonaldTrump/status/922...    46228     10243   \n",
       "1  https://twitter.com/realDonaldTrump/status/922...    31419     14006   \n",
       "2  https://twitter.com/realDonaldTrump/status/922...     9552     13719   \n",
       "3  https://twitter.com/realDonaldTrump/status/922...    56238     25102   \n",
       "4  https://twitter.com/realDonaldTrump/status/922...    32136     21573   \n",
       "\n",
       "   favorites             user  \\\n",
       "0      49468  realDonaldTrump   \n",
       "1      62406  realDonaldTrump   \n",
       "2      62662  realDonaldTrump   \n",
       "3     112890  realDonaldTrump   \n",
       "4      97145  realDonaldTrump   \n",
       "\n",
       "                           VADER Sentiment Intensity  compound comp_score  \n",
       "0  {'neg': 0.0, 'neu': 0.769, 'pos': 0.231, 'comp...    0.6596        pos  \n",
       "1  {'neg': 0.201, 'neu': 0.799, 'pos': 0.0, 'comp...   -0.6476        neg  \n",
       "2  {'neg': 0.094, 'neu': 0.675, 'pos': 0.231, 'co...    0.6439        pos  \n",
       "3  {'neg': 0.323, 'neu': 0.677, 'pos': 0.0, 'comp...   -0.8599        neg  \n",
       "4  {'neg': 0.123, 'neu': 0.629, 'pos': 0.248, 'co...    0.4926        pos  "
      ]
     },
     "execution_count": 96,
     "metadata": {},
     "output_type": "execute_result"
    }
   ],
   "source": [
    "#fill column for VADER, isolate compound score, determine pos/neg\n",
    "trump_tweets['VADER Sentiment Intensity'] = trump_tweets['text'].apply(lambda review: sia.polarity_scores(review))\n",
    "trump_tweets['compound']  = trump_tweets['VADER Sentiment Intensity'].apply(lambda score_dict: score_dict['compound'])\n",
    "trump_tweets['comp_score'] = trump_tweets['compound'].apply(lambda c: 'pos' if c >=0 else 'neg')\n",
    "trump_tweets.head()"
   ]
  },
  {
   "cell_type": "code",
   "execution_count": 97,
   "id": "b278b282-9f9d-4f94-b53e-d2205c635b32",
   "metadata": {},
   "outputs": [
    {
     "data": {
      "text/html": [
       "<div>\n",
       "<style scoped>\n",
       "    .dataframe tbody tr th:only-of-type {\n",
       "        vertical-align: middle;\n",
       "    }\n",
       "\n",
       "    .dataframe tbody tr th {\n",
       "        vertical-align: top;\n",
       "    }\n",
       "\n",
       "    .dataframe thead th {\n",
       "        text-align: right;\n",
       "    }\n",
       "</style>\n",
       "<table border=\"1\" class=\"dataframe\">\n",
       "  <thead>\n",
       "    <tr style=\"text-align: right;\">\n",
       "      <th></th>\n",
       "      <th>created_at</th>\n",
       "      <th>text</th>\n",
       "      <th>url</th>\n",
       "      <th>replies</th>\n",
       "      <th>retweets</th>\n",
       "      <th>favorites</th>\n",
       "      <th>user</th>\n",
       "      <th>VADER Sentiment Intensity</th>\n",
       "      <th>compound</th>\n",
       "      <th>comp_score</th>\n",
       "    </tr>\n",
       "  </thead>\n",
       "  <tbody>\n",
       "    <tr>\n",
       "      <th>0</th>\n",
       "      <td>10/16/17 22:59</td>\n",
       "      <td>I'm grateful to @SenJohnMcCain for his lifetim...</td>\n",
       "      <td>https://twitter.com/BarackObama/status/9200615...</td>\n",
       "      <td>17064</td>\n",
       "      <td>89916</td>\n",
       "      <td>641842</td>\n",
       "      <td>BarackObama</td>\n",
       "      <td>{'neg': 0.0, 'neu': 0.544, 'pos': 0.456, 'comp...</td>\n",
       "      <td>0.9246</td>\n",
       "      <td>pos</td>\n",
       "    </tr>\n",
       "    <tr>\n",
       "      <th>1</th>\n",
       "      <td>10/2/17 12:41</td>\n",
       "      <td>Michelle &amp;amp; I are praying for the victims i...</td>\n",
       "      <td>https://twitter.com/BarackObama/status/9148326...</td>\n",
       "      <td>21588</td>\n",
       "      <td>405895</td>\n",
       "      <td>1715753</td>\n",
       "      <td>BarackObama</td>\n",
       "      <td>{'neg': 0.238, 'neu': 0.674, 'pos': 0.089, 'co...</td>\n",
       "      <td>-0.6369</td>\n",
       "      <td>neg</td>\n",
       "    </tr>\n",
       "    <tr>\n",
       "      <th>2</th>\n",
       "      <td>9/30/17 2:22</td>\n",
       "      <td>Proud to cheer on Team USA at the Invictus Gam...</td>\n",
       "      <td>https://twitter.com/BarackObama/status/9139520...</td>\n",
       "      <td>8476</td>\n",
       "      <td>60651</td>\n",
       "      <td>503255</td>\n",
       "      <td>BarackObama</td>\n",
       "      <td>{'neg': 0.0, 'neu': 0.579, 'pos': 0.421, 'comp...</td>\n",
       "      <td>0.9300</td>\n",
       "      <td>pos</td>\n",
       "    </tr>\n",
       "    <tr>\n",
       "      <th>3</th>\n",
       "      <td>9/26/17 17:03</td>\n",
       "      <td>We're expanding our efforts to help Puerto Ric...</td>\n",
       "      <td>https://twitter.com/BarackObama/status/9127244...</td>\n",
       "      <td>10657</td>\n",
       "      <td>113807</td>\n",
       "      <td>334901</td>\n",
       "      <td>BarackObama</td>\n",
       "      <td>{'neg': 0.0, 'neu': 0.811, 'pos': 0.189, 'comp...</td>\n",
       "      <td>0.5994</td>\n",
       "      <td>pos</td>\n",
       "    </tr>\n",
       "    <tr>\n",
       "      <th>4</th>\n",
       "      <td>9/25/17 23:36</td>\n",
       "      <td>Prosecutor, soldier, family man, citizen. Beau...</td>\n",
       "      <td>https://twitter.com/BarackObama/status/9124608...</td>\n",
       "      <td>3886</td>\n",
       "      <td>58449</td>\n",
       "      <td>328106</td>\n",
       "      <td>BarackObama</td>\n",
       "      <td>{'neg': 0.056, 'neu': 0.748, 'pos': 0.196, 'co...</td>\n",
       "      <td>0.4588</td>\n",
       "      <td>pos</td>\n",
       "    </tr>\n",
       "    <tr>\n",
       "      <th>...</th>\n",
       "      <td>...</td>\n",
       "      <td>...</td>\n",
       "      <td>...</td>\n",
       "      <td>...</td>\n",
       "      <td>...</td>\n",
       "      <td>...</td>\n",
       "      <td>...</td>\n",
       "      <td>...</td>\n",
       "      <td>...</td>\n",
       "      <td>...</td>\n",
       "    </tr>\n",
       "    <tr>\n",
       "      <th>3202</th>\n",
       "      <td>8/15/14 20:16</td>\n",
       "      <td>Earning the minimum wage while raising a famil...</td>\n",
       "      <td>https://twitter.com/BarackObama/status/5003754...</td>\n",
       "      <td>536</td>\n",
       "      <td>1520</td>\n",
       "      <td>2155</td>\n",
       "      <td>BarackObama</td>\n",
       "      <td>{'neg': 0.171, 'neu': 0.829, 'pos': 0.0, 'comp...</td>\n",
       "      <td>-0.5106</td>\n",
       "      <td>neg</td>\n",
       "    </tr>\n",
       "    <tr>\n",
       "      <th>3203</th>\n",
       "      <td>8/15/14 18:02</td>\n",
       "      <td>FACT: 97% of scientists and NASA accept the sc...</td>\n",
       "      <td>https://twitter.com/BarackObama/status/5003418...</td>\n",
       "      <td>531</td>\n",
       "      <td>2103</td>\n",
       "      <td>2377</td>\n",
       "      <td>BarackObama</td>\n",
       "      <td>{'neg': 0.0, 'neu': 0.833, 'pos': 0.167, 'comp...</td>\n",
       "      <td>0.3818</td>\n",
       "      <td>pos</td>\n",
       "    </tr>\n",
       "    <tr>\n",
       "      <th>3204</th>\n",
       "      <td>8/15/14 16:21</td>\n",
       "      <td>Getting covered made Jason so happy he wanted ...</td>\n",
       "      <td>https://twitter.com/BarackObama/status/5003164...</td>\n",
       "      <td>206</td>\n",
       "      <td>261</td>\n",
       "      <td>721</td>\n",
       "      <td>BarackObama</td>\n",
       "      <td>{'neg': 0.0, 'neu': 0.717, 'pos': 0.283, 'comp...</td>\n",
       "      <td>0.6948</td>\n",
       "      <td>pos</td>\n",
       "    </tr>\n",
       "    <tr>\n",
       "      <th>3205</th>\n",
       "      <td>8/15/14 15:15</td>\n",
       "      <td>It's time to get serious and #ActOnClimate. ht...</td>\n",
       "      <td>https://twitter.com/BarackObama/status/5002997...</td>\n",
       "      <td>509</td>\n",
       "      <td>2009</td>\n",
       "      <td>2273</td>\n",
       "      <td>BarackObama</td>\n",
       "      <td>{'neg': 0.157, 'neu': 0.843, 'pos': 0.0, 'comp...</td>\n",
       "      <td>-0.0772</td>\n",
       "      <td>neg</td>\n",
       "    </tr>\n",
       "    <tr>\n",
       "      <th>3206</th>\n",
       "      <td>8/14/14 16:50</td>\n",
       "      <td>Happening now: President Obama is delivering a...</td>\n",
       "      <td>https://twitter.com/BarackObama/status/4999611...</td>\n",
       "      <td>583</td>\n",
       "      <td>1243</td>\n",
       "      <td>961</td>\n",
       "      <td>BarackObama</td>\n",
       "      <td>{'neg': 0.0, 'neu': 1.0, 'pos': 0.0, 'compound...</td>\n",
       "      <td>0.0000</td>\n",
       "      <td>pos</td>\n",
       "    </tr>\n",
       "  </tbody>\n",
       "</table>\n",
       "<p>3207 rows × 10 columns</p>\n",
       "</div>"
      ],
      "text/plain": [
       "          created_at                                               text  \\\n",
       "0     10/16/17 22:59  I'm grateful to @SenJohnMcCain for his lifetim...   \n",
       "1      10/2/17 12:41  Michelle &amp; I are praying for the victims i...   \n",
       "2       9/30/17 2:22  Proud to cheer on Team USA at the Invictus Gam...   \n",
       "3      9/26/17 17:03  We're expanding our efforts to help Puerto Ric...   \n",
       "4      9/25/17 23:36  Prosecutor, soldier, family man, citizen. Beau...   \n",
       "...              ...                                                ...   \n",
       "3202   8/15/14 20:16  Earning the minimum wage while raising a famil...   \n",
       "3203   8/15/14 18:02  FACT: 97% of scientists and NASA accept the sc...   \n",
       "3204   8/15/14 16:21  Getting covered made Jason so happy he wanted ...   \n",
       "3205   8/15/14 15:15  It's time to get serious and #ActOnClimate. ht...   \n",
       "3206   8/14/14 16:50  Happening now: President Obama is delivering a...   \n",
       "\n",
       "                                                    url  replies  retweets  \\\n",
       "0     https://twitter.com/BarackObama/status/9200615...    17064     89916   \n",
       "1     https://twitter.com/BarackObama/status/9148326...    21588    405895   \n",
       "2     https://twitter.com/BarackObama/status/9139520...     8476     60651   \n",
       "3     https://twitter.com/BarackObama/status/9127244...    10657    113807   \n",
       "4     https://twitter.com/BarackObama/status/9124608...     3886     58449   \n",
       "...                                                 ...      ...       ...   \n",
       "3202  https://twitter.com/BarackObama/status/5003754...      536      1520   \n",
       "3203  https://twitter.com/BarackObama/status/5003418...      531      2103   \n",
       "3204  https://twitter.com/BarackObama/status/5003164...      206       261   \n",
       "3205  https://twitter.com/BarackObama/status/5002997...      509      2009   \n",
       "3206  https://twitter.com/BarackObama/status/4999611...      583      1243   \n",
       "\n",
       "      favorites         user  \\\n",
       "0        641842  BarackObama   \n",
       "1       1715753  BarackObama   \n",
       "2        503255  BarackObama   \n",
       "3        334901  BarackObama   \n",
       "4        328106  BarackObama   \n",
       "...         ...          ...   \n",
       "3202       2155  BarackObama   \n",
       "3203       2377  BarackObama   \n",
       "3204        721  BarackObama   \n",
       "3205       2273  BarackObama   \n",
       "3206        961  BarackObama   \n",
       "\n",
       "                              VADER Sentiment Intensity  compound comp_score  \n",
       "0     {'neg': 0.0, 'neu': 0.544, 'pos': 0.456, 'comp...    0.9246        pos  \n",
       "1     {'neg': 0.238, 'neu': 0.674, 'pos': 0.089, 'co...   -0.6369        neg  \n",
       "2     {'neg': 0.0, 'neu': 0.579, 'pos': 0.421, 'comp...    0.9300        pos  \n",
       "3     {'neg': 0.0, 'neu': 0.811, 'pos': 0.189, 'comp...    0.5994        pos  \n",
       "4     {'neg': 0.056, 'neu': 0.748, 'pos': 0.196, 'co...    0.4588        pos  \n",
       "...                                                 ...       ...        ...  \n",
       "3202  {'neg': 0.171, 'neu': 0.829, 'pos': 0.0, 'comp...   -0.5106        neg  \n",
       "3203  {'neg': 0.0, 'neu': 0.833, 'pos': 0.167, 'comp...    0.3818        pos  \n",
       "3204  {'neg': 0.0, 'neu': 0.717, 'pos': 0.283, 'comp...    0.6948        pos  \n",
       "3205  {'neg': 0.157, 'neu': 0.843, 'pos': 0.0, 'comp...   -0.0772        neg  \n",
       "3206  {'neg': 0.0, 'neu': 1.0, 'pos': 0.0, 'compound...    0.0000        pos  \n",
       "\n",
       "[3207 rows x 10 columns]"
      ]
     },
     "execution_count": 97,
     "metadata": {},
     "output_type": "execute_result"
    }
   ],
   "source": [
    "#print entirety\n",
    "obama_tweets"
   ]
  },
  {
   "cell_type": "code",
   "execution_count": 98,
   "id": "6a7ecbfc-cb75-476d-a7f0-f1ba2a748418",
   "metadata": {},
   "outputs": [
    {
     "data": {
      "text/html": [
       "<div>\n",
       "<style scoped>\n",
       "    .dataframe tbody tr th:only-of-type {\n",
       "        vertical-align: middle;\n",
       "    }\n",
       "\n",
       "    .dataframe tbody tr th {\n",
       "        vertical-align: top;\n",
       "    }\n",
       "\n",
       "    .dataframe thead th {\n",
       "        text-align: right;\n",
       "    }\n",
       "</style>\n",
       "<table border=\"1\" class=\"dataframe\">\n",
       "  <thead>\n",
       "    <tr style=\"text-align: right;\">\n",
       "      <th></th>\n",
       "      <th>created_at</th>\n",
       "      <th>text</th>\n",
       "      <th>url</th>\n",
       "      <th>replies</th>\n",
       "      <th>retweets</th>\n",
       "      <th>favorites</th>\n",
       "      <th>user</th>\n",
       "      <th>VADER Sentiment Intensity</th>\n",
       "      <th>compound</th>\n",
       "      <th>comp_score</th>\n",
       "    </tr>\n",
       "  </thead>\n",
       "  <tbody>\n",
       "    <tr>\n",
       "      <th>0</th>\n",
       "      <td>10/23/17 12:30</td>\n",
       "      <td>I had a very respectful conversation with the ...</td>\n",
       "      <td>https://twitter.com/realDonaldTrump/status/922...</td>\n",
       "      <td>46228</td>\n",
       "      <td>10243</td>\n",
       "      <td>49468</td>\n",
       "      <td>realDonaldTrump</td>\n",
       "      <td>{'neg': 0.0, 'neu': 0.769, 'pos': 0.231, 'comp...</td>\n",
       "      <td>0.6596</td>\n",
       "      <td>pos</td>\n",
       "    </tr>\n",
       "    <tr>\n",
       "      <th>1</th>\n",
       "      <td>10/23/17 11:53</td>\n",
       "      <td>Two dozen NFL players continue to kneel during...</td>\n",
       "      <td>https://twitter.com/realDonaldTrump/status/922...</td>\n",
       "      <td>31419</td>\n",
       "      <td>14006</td>\n",
       "      <td>62406</td>\n",
       "      <td>realDonaldTrump</td>\n",
       "      <td>{'neg': 0.201, 'neu': 0.799, 'pos': 0.0, 'comp...</td>\n",
       "      <td>-0.6476</td>\n",
       "      <td>neg</td>\n",
       "    </tr>\n",
       "    <tr>\n",
       "      <th>2</th>\n",
       "      <td>10/23/17 11:42</td>\n",
       "      <td>There will be NO change to your 401(k). This h...</td>\n",
       "      <td>https://twitter.com/realDonaldTrump/status/922...</td>\n",
       "      <td>9552</td>\n",
       "      <td>13719</td>\n",
       "      <td>62662</td>\n",
       "      <td>realDonaldTrump</td>\n",
       "      <td>{'neg': 0.094, 'neu': 0.675, 'pos': 0.231, 'co...</td>\n",
       "      <td>0.6439</td>\n",
       "      <td>pos</td>\n",
       "    </tr>\n",
       "    <tr>\n",
       "      <th>3</th>\n",
       "      <td>10/22/17 12:08</td>\n",
       "      <td>It is finally sinking through. 46% OF PEOPLE B...</td>\n",
       "      <td>https://twitter.com/realDonaldTrump/status/922...</td>\n",
       "      <td>56238</td>\n",
       "      <td>25102</td>\n",
       "      <td>112890</td>\n",
       "      <td>realDonaldTrump</td>\n",
       "      <td>{'neg': 0.323, 'neu': 0.677, 'pos': 0.0, 'comp...</td>\n",
       "      <td>-0.8599</td>\n",
       "      <td>neg</td>\n",
       "    </tr>\n",
       "    <tr>\n",
       "      <th>4</th>\n",
       "      <td>10/22/17 12:02</td>\n",
       "      <td>Wacky Congresswoman Wilson is the gift that ke...</td>\n",
       "      <td>https://twitter.com/realDonaldTrump/status/922...</td>\n",
       "      <td>32136</td>\n",
       "      <td>21573</td>\n",
       "      <td>97145</td>\n",
       "      <td>realDonaldTrump</td>\n",
       "      <td>{'neg': 0.123, 'neu': 0.629, 'pos': 0.248, 'co...</td>\n",
       "      <td>0.4926</td>\n",
       "      <td>pos</td>\n",
       "    </tr>\n",
       "    <tr>\n",
       "      <th>...</th>\n",
       "      <td>...</td>\n",
       "      <td>...</td>\n",
       "      <td>...</td>\n",
       "      <td>...</td>\n",
       "      <td>...</td>\n",
       "      <td>...</td>\n",
       "      <td>...</td>\n",
       "      <td>...</td>\n",
       "      <td>...</td>\n",
       "      <td>...</td>\n",
       "    </tr>\n",
       "    <tr>\n",
       "      <th>3227</th>\n",
       "      <td>8/24/16 22:39</td>\n",
       "      <td>Thank you for your support!\\r#AmericaFirst #Im...</td>\n",
       "      <td>https://twitter.com/realDonaldTrump/status/768...</td>\n",
       "      <td>1693</td>\n",
       "      <td>6441</td>\n",
       "      <td>18401</td>\n",
       "      <td>realDonaldTrump</td>\n",
       "      <td>{'neg': 0.0, 'neu': 0.522, 'pos': 0.478, 'comp...</td>\n",
       "      <td>0.6696</td>\n",
       "      <td>pos</td>\n",
       "    </tr>\n",
       "    <tr>\n",
       "      <th>3228</th>\n",
       "      <td>8/24/16 21:32</td>\n",
       "      <td>A great afternoon in Tampa, Florida. Thank you...</td>\n",
       "      <td>https://twitter.com/realDonaldTrump/status/768...</td>\n",
       "      <td>1148</td>\n",
       "      <td>4837</td>\n",
       "      <td>16968</td>\n",
       "      <td>realDonaldTrump</td>\n",
       "      <td>{'neg': 0.0, 'neu': 0.504, 'pos': 0.496, 'comp...</td>\n",
       "      <td>0.7840</td>\n",
       "      <td>pos</td>\n",
       "    </tr>\n",
       "    <tr>\n",
       "      <th>3229</th>\n",
       "      <td>8/24/16 17:24</td>\n",
       "      <td>New national poll released. Join the MOVEMENT ...</td>\n",
       "      <td>https://twitter.com/realDonaldTrump/status/768...</td>\n",
       "      <td>2737</td>\n",
       "      <td>5991</td>\n",
       "      <td>16619</td>\n",
       "      <td>realDonaldTrump</td>\n",
       "      <td>{'neg': 0.0, 'neu': 0.839, 'pos': 0.161, 'comp...</td>\n",
       "      <td>0.3595</td>\n",
       "      <td>pos</td>\n",
       "    </tr>\n",
       "    <tr>\n",
       "      <th>3230</th>\n",
       "      <td>8/24/16 16:42</td>\n",
       "      <td>Great new poll Florida - thank you! #MakeAmeri...</td>\n",
       "      <td>https://twitter.com/realDonaldTrump/status/768...</td>\n",
       "      <td>1888</td>\n",
       "      <td>7288</td>\n",
       "      <td>20072</td>\n",
       "      <td>realDonaldTrump</td>\n",
       "      <td>{'neg': 0.0, 'neu': 0.465, 'pos': 0.535, 'comp...</td>\n",
       "      <td>0.7840</td>\n",
       "      <td>pos</td>\n",
       "    </tr>\n",
       "    <tr>\n",
       "      <th>3231</th>\n",
       "      <td>8/24/16 15:19</td>\n",
       "      <td>I will not let the families of The Remembrance...</td>\n",
       "      <td>https://twitter.com/realDonaldTrump/status/768...</td>\n",
       "      <td>1178</td>\n",
       "      <td>6809</td>\n",
       "      <td>15973</td>\n",
       "      <td>realDonaldTrump</td>\n",
       "      <td>{'neg': 0.0, 'neu': 1.0, 'pos': 0.0, 'compound...</td>\n",
       "      <td>0.0000</td>\n",
       "      <td>pos</td>\n",
       "    </tr>\n",
       "  </tbody>\n",
       "</table>\n",
       "<p>3232 rows × 10 columns</p>\n",
       "</div>"
      ],
      "text/plain": [
       "          created_at                                               text  \\\n",
       "0     10/23/17 12:30  I had a very respectful conversation with the ...   \n",
       "1     10/23/17 11:53  Two dozen NFL players continue to kneel during...   \n",
       "2     10/23/17 11:42  There will be NO change to your 401(k). This h...   \n",
       "3     10/22/17 12:08  It is finally sinking through. 46% OF PEOPLE B...   \n",
       "4     10/22/17 12:02  Wacky Congresswoman Wilson is the gift that ke...   \n",
       "...              ...                                                ...   \n",
       "3227   8/24/16 22:39  Thank you for your support!\\r#AmericaFirst #Im...   \n",
       "3228   8/24/16 21:32  A great afternoon in Tampa, Florida. Thank you...   \n",
       "3229   8/24/16 17:24  New national poll released. Join the MOVEMENT ...   \n",
       "3230   8/24/16 16:42  Great new poll Florida - thank you! #MakeAmeri...   \n",
       "3231   8/24/16 15:19  I will not let the families of The Remembrance...   \n",
       "\n",
       "                                                    url  replies  retweets  \\\n",
       "0     https://twitter.com/realDonaldTrump/status/922...    46228     10243   \n",
       "1     https://twitter.com/realDonaldTrump/status/922...    31419     14006   \n",
       "2     https://twitter.com/realDonaldTrump/status/922...     9552     13719   \n",
       "3     https://twitter.com/realDonaldTrump/status/922...    56238     25102   \n",
       "4     https://twitter.com/realDonaldTrump/status/922...    32136     21573   \n",
       "...                                                 ...      ...       ...   \n",
       "3227  https://twitter.com/realDonaldTrump/status/768...     1693      6441   \n",
       "3228  https://twitter.com/realDonaldTrump/status/768...     1148      4837   \n",
       "3229  https://twitter.com/realDonaldTrump/status/768...     2737      5991   \n",
       "3230  https://twitter.com/realDonaldTrump/status/768...     1888      7288   \n",
       "3231  https://twitter.com/realDonaldTrump/status/768...     1178      6809   \n",
       "\n",
       "      favorites             user  \\\n",
       "0         49468  realDonaldTrump   \n",
       "1         62406  realDonaldTrump   \n",
       "2         62662  realDonaldTrump   \n",
       "3        112890  realDonaldTrump   \n",
       "4         97145  realDonaldTrump   \n",
       "...         ...              ...   \n",
       "3227      18401  realDonaldTrump   \n",
       "3228      16968  realDonaldTrump   \n",
       "3229      16619  realDonaldTrump   \n",
       "3230      20072  realDonaldTrump   \n",
       "3231      15973  realDonaldTrump   \n",
       "\n",
       "                              VADER Sentiment Intensity  compound comp_score  \n",
       "0     {'neg': 0.0, 'neu': 0.769, 'pos': 0.231, 'comp...    0.6596        pos  \n",
       "1     {'neg': 0.201, 'neu': 0.799, 'pos': 0.0, 'comp...   -0.6476        neg  \n",
       "2     {'neg': 0.094, 'neu': 0.675, 'pos': 0.231, 'co...    0.6439        pos  \n",
       "3     {'neg': 0.323, 'neu': 0.677, 'pos': 0.0, 'comp...   -0.8599        neg  \n",
       "4     {'neg': 0.123, 'neu': 0.629, 'pos': 0.248, 'co...    0.4926        pos  \n",
       "...                                                 ...       ...        ...  \n",
       "3227  {'neg': 0.0, 'neu': 0.522, 'pos': 0.478, 'comp...    0.6696        pos  \n",
       "3228  {'neg': 0.0, 'neu': 0.504, 'pos': 0.496, 'comp...    0.7840        pos  \n",
       "3229  {'neg': 0.0, 'neu': 0.839, 'pos': 0.161, 'comp...    0.3595        pos  \n",
       "3230  {'neg': 0.0, 'neu': 0.465, 'pos': 0.535, 'comp...    0.7840        pos  \n",
       "3231  {'neg': 0.0, 'neu': 1.0, 'pos': 0.0, 'compound...    0.0000        pos  \n",
       "\n",
       "[3232 rows x 10 columns]"
      ]
     },
     "execution_count": 98,
     "metadata": {},
     "output_type": "execute_result"
    }
   ],
   "source": [
    "#print entirety\n",
    "trump_tweets"
   ]
  },
  {
   "cell_type": "code",
   "execution_count": 99,
   "id": "bb48a0fa-a1b1-43b0-a118-9ba57ebb53b7",
   "metadata": {},
   "outputs": [
    {
     "name": "stdout",
     "output_type": "stream",
     "text": [
      "The mean compound of the data is:  0.19910617399438726\n",
      "The standard deviation of the compound of the data is:  0.37872101501899325\n"
     ]
    }
   ],
   "source": [
    "#find mean and std dev\n",
    "obama_compound = obama_tweets['compound']\n",
    "print('The mean compound of the data is: ', statistics.mean(obama_compound))\n",
    "print('The standard deviation of the compound of the data is: ', statistics.stdev(obama_compound))"
   ]
  },
  {
   "cell_type": "code",
   "execution_count": 100,
   "id": "a5f7f434-0de8-4d7d-b9d1-75b9726e264a",
   "metadata": {},
   "outputs": [
    {
     "name": "stdout",
     "output_type": "stream",
     "text": [
      "The mean compound of the data is:  0.18796383044554454\n",
      "The standard deviation of the compound of the data is:  0.541958272454006\n"
     ]
    }
   ],
   "source": [
    "#find mean and std dev\n",
    "trump_compound = trump_tweets['compound']\n",
    "print('The mean compound of the data is: ', statistics.mean(trump_compound))\n",
    "print('The standard deviation of the compound of the data is: ', statistics.stdev(trump_compound))"
   ]
  },
  {
   "cell_type": "code",
   "execution_count": 101,
   "id": "a41dc3a4-f886-4889-87b7-b0edbc33678a",
   "metadata": {},
   "outputs": [
    {
     "data": {
      "text/plain": [
       "Text(0.5, 0, 'Compound Sentiment Value')"
      ]
     },
     "execution_count": 101,
     "metadata": {},
     "output_type": "execute_result"
    },
    {
     "data": {
      "image/png": "[encoded data removed]",
      "text/plain": [
       "<Figure size 432x288 with 1 Axes>"
      ]
     },
     "metadata": {
      "needs_background": "light"
     },
     "output_type": "display_data"
    }
   ],
   "source": [
    "#plot histogram\n",
    "plt.hist(obama_compound)\n",
    "plt.title('Sentiment Scores for Obamas Tweets')\n",
    "plt.ylabel('Number of Value Occurences')\n",
    "plt.xlabel('Compound Sentiment Value')"
   ]
  },
  {
   "cell_type": "code",
   "execution_count": 102,
   "id": "cf7596ab-2cd4-4232-8bec-1f9021842e80",
   "metadata": {},
   "outputs": [
    {
     "data": {
      "text/plain": [
       "Text(0.5, 0, 'Compound Sentiment Value')"
      ]
     },
     "execution_count": 102,
     "metadata": {},
     "output_type": "execute_result"
    },
    {
     "data": {
      "image/png": "[encoded data removed]",
      "text/plain": [
       "<Figure size 432x288 with 1 Axes>"
      ]
     },
     "metadata": {
      "needs_background": "light"
     },
     "output_type": "display_data"
    }
   ],
   "source": [
    "#plot histogram\n",
    "plt.hist(trump_compound)\n",
    "plt.title('Sentiment Scores for Trumps Tweets')\n",
    "plt.ylabel('Number of Value Occurences')\n",
    "plt.xlabel('Compound Sentiment Value')"
   ]
  },
  {
   "cell_type": "code",
   "execution_count": 142,
   "id": "c8313edb-3910-479b-b369-d1926f82a29a",
   "metadata": {},
   "outputs": [
    {
     "name": "stdout",
     "output_type": "stream",
     "text": [
      "0.9349\n",
      "-0.9201\n"
     ]
    },
    {
     "data": {
      "text/html": [
       "<div>\n",
       "<style scoped>\n",
       "    .dataframe tbody tr th:only-of-type {\n",
       "        vertical-align: middle;\n",
       "    }\n",
       "\n",
       "    .dataframe tbody tr th {\n",
       "        vertical-align: top;\n",
       "    }\n",
       "\n",
       "    .dataframe thead th {\n",
       "        text-align: right;\n",
       "    }\n",
       "</style>\n",
       "<table border=\"1\" class=\"dataframe\">\n",
       "  <thead>\n",
       "    <tr style=\"text-align: right;\">\n",
       "      <th></th>\n",
       "      <th>created_at</th>\n",
       "      <th>text</th>\n",
       "      <th>url</th>\n",
       "      <th>replies</th>\n",
       "      <th>retweets</th>\n",
       "      <th>favorites</th>\n",
       "      <th>user</th>\n",
       "      <th>VADER Sentiment Intensity</th>\n",
       "      <th>compound</th>\n",
       "      <th>comp_score</th>\n",
       "    </tr>\n",
       "  </thead>\n",
       "  <tbody>\n",
       "    <tr>\n",
       "      <th>723</th>\n",
       "      <td>3/27/16 17:43</td>\n",
       "      <td>\"We wish all who celebrate a blessed and joyfu...</td>\n",
       "      <td>https://twitter.com/BarackObama/status/7141457...</td>\n",
       "      <td>1140</td>\n",
       "      <td>7866</td>\n",
       "      <td>32989</td>\n",
       "      <td>BarackObama</td>\n",
       "      <td>{'neg': 0.0, 'neu': 0.36, 'pos': 0.64, 'compou...</td>\n",
       "      <td>0.9349</td>\n",
       "      <td>pos</td>\n",
       "    </tr>\n",
       "    <tr>\n",
       "      <th>1618</th>\n",
       "      <td>8/4/15 21:13</td>\n",
       "      <td>Help President Obama celebrate another great y...</td>\n",
       "      <td>https://twitter.com/BarackObama/status/6286750...</td>\n",
       "      <td>1516</td>\n",
       "      <td>2382</td>\n",
       "      <td>6101</td>\n",
       "      <td>BarackObama</td>\n",
       "      <td>{'neg': 0.0, 'neu': 0.388, 'pos': 0.612, 'comp...</td>\n",
       "      <td>0.9349</td>\n",
       "      <td>pos</td>\n",
       "    </tr>\n",
       "  </tbody>\n",
       "</table>\n",
       "</div>"
      ],
      "text/plain": [
       "         created_at                                               text  \\\n",
       "723   3/27/16 17:43  \"We wish all who celebrate a blessed and joyfu...   \n",
       "1618   8/4/15 21:13  Help President Obama celebrate another great y...   \n",
       "\n",
       "                                                    url  replies  retweets  \\\n",
       "723   https://twitter.com/BarackObama/status/7141457...     1140      7866   \n",
       "1618  https://twitter.com/BarackObama/status/6286750...     1516      2382   \n",
       "\n",
       "      favorites         user  \\\n",
       "723       32989  BarackObama   \n",
       "1618       6101  BarackObama   \n",
       "\n",
       "                              VADER Sentiment Intensity  compound comp_score  \n",
       "723   {'neg': 0.0, 'neu': 0.36, 'pos': 0.64, 'compou...    0.9349        pos  \n",
       "1618  {'neg': 0.0, 'neu': 0.388, 'pos': 0.612, 'comp...    0.9349        pos  "
      ]
     },
     "execution_count": 142,
     "metadata": {},
     "output_type": "execute_result"
    }
   ],
   "source": [
    "#find highest and lowest value, then use value to determine location\n",
    "print(max(obama_compound))\n",
    "print(min(obama_compound))\n",
    "obama_max_value = 0.9349\n",
    "obama_min_value = -0.9201\n",
    "obama_tweets.loc[obama_tweets['compound'] == obama_max_value]"
   ]
  },
  {
   "cell_type": "code",
   "execution_count": 143,
   "id": "c57e146f-4032-420d-9050-9eb6e45f291d",
   "metadata": {},
   "outputs": [
    {
     "name": "stdout",
     "output_type": "stream",
     "text": [
      "Max Value Tweet 1: \"We wish all who celebrate a blessed and joyful Easter.\" –¥—É–æPresident Obama https://t.co/sSls4YLCYe\n",
      "Max Value Tweet 2: Help President Obama celebrate another great year–¥—É–æwish him a happy birthday: http://t.co/CHVz44cTcH #44turns54 http://t.co/r8aa6ZgfRe\n"
     ]
    }
   ],
   "source": [
    "#print tweets with higher sentiment scores\n",
    "print('Max Value Tweet 1:', obama_text[723])\n",
    "print('Max Value Tweet 2:', obama_text[1618])"
   ]
  },
  {
   "cell_type": "code",
   "execution_count": 144,
   "id": "51c8ab5d-fe59-4a97-9c67-eba3019227dd",
   "metadata": {},
   "outputs": [
    {
     "data": {
      "text/html": [
       "<div>\n",
       "<style scoped>\n",
       "    .dataframe tbody tr th:only-of-type {\n",
       "        vertical-align: middle;\n",
       "    }\n",
       "\n",
       "    .dataframe tbody tr th {\n",
       "        vertical-align: top;\n",
       "    }\n",
       "\n",
       "    .dataframe thead th {\n",
       "        text-align: right;\n",
       "    }\n",
       "</style>\n",
       "<table border=\"1\" class=\"dataframe\">\n",
       "  <thead>\n",
       "    <tr style=\"text-align: right;\">\n",
       "      <th></th>\n",
       "      <th>created_at</th>\n",
       "      <th>text</th>\n",
       "      <th>url</th>\n",
       "      <th>replies</th>\n",
       "      <th>retweets</th>\n",
       "      <th>favorites</th>\n",
       "      <th>user</th>\n",
       "      <th>VADER Sentiment Intensity</th>\n",
       "      <th>compound</th>\n",
       "      <th>comp_score</th>\n",
       "    </tr>\n",
       "  </thead>\n",
       "  <tbody>\n",
       "    <tr>\n",
       "      <th>453</th>\n",
       "      <td>6/21/16 15:46</td>\n",
       "      <td>RT @POTUS: Gun violence requires more than mom...</td>\n",
       "      <td>https://twitter.com/BarackObama/status/7452818...</td>\n",
       "      <td>4272</td>\n",
       "      <td>64984</td>\n",
       "      <td>120391</td>\n",
       "      <td>BarackObama</td>\n",
       "      <td>{'neg': 0.408, 'neu': 0.592, 'pos': 0.0, 'comp...</td>\n",
       "      <td>-0.9201</td>\n",
       "      <td>neg</td>\n",
       "    </tr>\n",
       "  </tbody>\n",
       "</table>\n",
       "</div>"
      ],
      "text/plain": [
       "        created_at                                               text  \\\n",
       "453  6/21/16 15:46  RT @POTUS: Gun violence requires more than mom...   \n",
       "\n",
       "                                                   url  replies  retweets  \\\n",
       "453  https://twitter.com/BarackObama/status/7452818...     4272     64984   \n",
       "\n",
       "     favorites         user  \\\n",
       "453     120391  BarackObama   \n",
       "\n",
       "                             VADER Sentiment Intensity  compound comp_score  \n",
       "453  {'neg': 0.408, 'neu': 0.592, 'pos': 0.0, 'comp...   -0.9201        neg  "
      ]
     },
     "execution_count": 144,
     "metadata": {},
     "output_type": "execute_result"
    }
   ],
   "source": [
    "#find tweet with lower sentiment score\n",
    "obama_tweets.loc[obama_tweets['compound'] == obama_min_value]"
   ]
  },
  {
   "cell_type": "code",
   "execution_count": 147,
   "id": "f949132c-e795-485c-bdf7-e83bc89f1339",
   "metadata": {},
   "outputs": [
    {
     "name": "stdout",
     "output_type": "stream",
     "text": [
      "Min Value Tweet: RT @POTUS: Gun violence requires more than moments of silence. It requires action. In failing that test, the Senate failed the American peo–¥—É_\n"
     ]
    }
   ],
   "source": [
    "#print tweet with lower score\n",
    "print('Min Value Tweet:', obama_text[453])"
   ]
  },
  {
   "cell_type": "code",
   "execution_count": 146,
   "id": "a754efcb-e37a-4e25-a5bc-3974431f33a9",
   "metadata": {},
   "outputs": [
    {
     "name": "stdout",
     "output_type": "stream",
     "text": [
      "0.9805\n",
      "-0.9735\n"
     ]
    },
    {
     "data": {
      "text/html": [
       "<div>\n",
       "<style scoped>\n",
       "    .dataframe tbody tr th:only-of-type {\n",
       "        vertical-align: middle;\n",
       "    }\n",
       "\n",
       "    .dataframe tbody tr th {\n",
       "        vertical-align: top;\n",
       "    }\n",
       "\n",
       "    .dataframe thead th {\n",
       "        text-align: right;\n",
       "    }\n",
       "</style>\n",
       "<table border=\"1\" class=\"dataframe\">\n",
       "  <thead>\n",
       "    <tr style=\"text-align: right;\">\n",
       "      <th></th>\n",
       "      <th>created_at</th>\n",
       "      <th>text</th>\n",
       "      <th>url</th>\n",
       "      <th>replies</th>\n",
       "      <th>retweets</th>\n",
       "      <th>favorites</th>\n",
       "      <th>user</th>\n",
       "      <th>VADER Sentiment Intensity</th>\n",
       "      <th>compound</th>\n",
       "      <th>comp_score</th>\n",
       "    </tr>\n",
       "  </thead>\n",
       "  <tbody>\n",
       "    <tr>\n",
       "      <th>1916</th>\n",
       "      <td>1/12/17 13:50</td>\n",
       "      <td>Thank you to Linda Bean of L.L.Bean for your g...</td>\n",
       "      <td>https://twitter.com/realDonaldTrump/status/819...</td>\n",
       "      <td>19599</td>\n",
       "      <td>21278</td>\n",
       "      <td>91426</td>\n",
       "      <td>realDonaldTrump</td>\n",
       "      <td>{'neg': 0.0, 'neu': 0.542, 'pos': 0.458, 'comp...</td>\n",
       "      <td>0.9349</td>\n",
       "      <td>pos</td>\n",
       "    </tr>\n",
       "  </tbody>\n",
       "</table>\n",
       "</div>"
      ],
      "text/plain": [
       "         created_at                                               text  \\\n",
       "1916  1/12/17 13:50  Thank you to Linda Bean of L.L.Bean for your g...   \n",
       "\n",
       "                                                    url  replies  retweets  \\\n",
       "1916  https://twitter.com/realDonaldTrump/status/819...    19599     21278   \n",
       "\n",
       "      favorites             user  \\\n",
       "1916      91426  realDonaldTrump   \n",
       "\n",
       "                              VADER Sentiment Intensity  compound comp_score  \n",
       "1916  {'neg': 0.0, 'neu': 0.542, 'pos': 0.458, 'comp...    0.9349        pos  "
      ]
     },
     "execution_count": 146,
     "metadata": {},
     "output_type": "execute_result"
    }
   ],
   "source": [
    "#find highest and lowest value, then use value to determine location\n",
    "print(max(trump_compound))\n",
    "print(min(trump_compound))\n",
    "trump_max_value = 0.9805\n",
    "trump_min_value = -0.9735\n",
    "trump_tweets.loc[trump_tweets['compound'] == obama_max_value]"
   ]
  },
  {
   "cell_type": "code",
   "execution_count": 148,
   "id": "815d86ac-d146-4c80-b4c5-8c379f00e766",
   "metadata": {},
   "outputs": [
    {
     "name": "stdout",
     "output_type": "stream",
     "text": [
      "Max Value Tweet: Thank you to Linda Bean of L.L.Bean for your great support and courage. People will support you even more now. Buy L.L.Bean. @LBPerfectMaine\n"
     ]
    }
   ],
   "source": [
    "#print tweet with highest score\n",
    "print('Max Value Tweet:', trump_text[1916])"
   ]
  },
  {
   "cell_type": "code",
   "execution_count": 149,
   "id": "b6623a32-4732-4089-b879-3d340de82349",
   "metadata": {},
   "outputs": [
    {
     "data": {
      "text/html": [
       "<div>\n",
       "<style scoped>\n",
       "    .dataframe tbody tr th:only-of-type {\n",
       "        vertical-align: middle;\n",
       "    }\n",
       "\n",
       "    .dataframe tbody tr th {\n",
       "        vertical-align: top;\n",
       "    }\n",
       "\n",
       "    .dataframe thead th {\n",
       "        text-align: right;\n",
       "    }\n",
       "</style>\n",
       "<table border=\"1\" class=\"dataframe\">\n",
       "  <thead>\n",
       "    <tr style=\"text-align: right;\">\n",
       "      <th></th>\n",
       "      <th>created_at</th>\n",
       "      <th>text</th>\n",
       "      <th>url</th>\n",
       "      <th>replies</th>\n",
       "      <th>retweets</th>\n",
       "      <th>favorites</th>\n",
       "      <th>user</th>\n",
       "      <th>VADER Sentiment Intensity</th>\n",
       "      <th>compound</th>\n",
       "      <th>comp_score</th>\n",
       "    </tr>\n",
       "  </thead>\n",
       "  <tbody>\n",
       "    <tr>\n",
       "      <th>1431</th>\n",
       "      <td>4/18/17 10:38</td>\n",
       "      <td>Democrat Jon Ossoff would be a disaster in Con...</td>\n",
       "      <td>https://twitter.com/realDonaldTrump/status/854...</td>\n",
       "      <td>12950</td>\n",
       "      <td>14207</td>\n",
       "      <td>56073</td>\n",
       "      <td>realDonaldTrump</td>\n",
       "      <td>{'neg': 0.555, 'neu': 0.445, 'pos': 0.0, 'comp...</td>\n",
       "      <td>-0.9735</td>\n",
       "      <td>neg</td>\n",
       "    </tr>\n",
       "  </tbody>\n",
       "</table>\n",
       "</div>"
      ],
      "text/plain": [
       "         created_at                                               text  \\\n",
       "1431  4/18/17 10:38  Democrat Jon Ossoff would be a disaster in Con...   \n",
       "\n",
       "                                                    url  replies  retweets  \\\n",
       "1431  https://twitter.com/realDonaldTrump/status/854...    12950     14207   \n",
       "\n",
       "      favorites             user  \\\n",
       "1431      56073  realDonaldTrump   \n",
       "\n",
       "                              VADER Sentiment Intensity  compound comp_score  \n",
       "1431  {'neg': 0.555, 'neu': 0.445, 'pos': 0.0, 'comp...   -0.9735        neg  "
      ]
     },
     "execution_count": 149,
     "metadata": {},
     "output_type": "execute_result"
    }
   ],
   "source": [
    "#find tweet with lowest value\n",
    "trump_tweets.loc[trump_tweets['compound'] == trump_min_value]"
   ]
  },
  {
   "cell_type": "code",
   "execution_count": 150,
   "id": "8dea0935-def2-49bb-bba0-c872c8f15acb",
   "metadata": {},
   "outputs": [
    {
     "name": "stdout",
     "output_type": "stream",
     "text": [
      "Min Value Tweet: Democrat Jon Ossoff would be a disaster in Congress. VERY weak on crime and illegal immigration, bad for jobs and wants higher taxes. Say NO\n"
     ]
    }
   ],
   "source": [
    "#print tweet with lowest value\n",
    "print('Min Value Tweet:', trump_text[1431])"
   ]
  },
  {
   "cell_type": "markdown",
   "id": "5e0fb055-6418-464a-ac55-d3bb125b11c8",
   "metadata": {},
   "source": [
    "VADER does a relatively decent job at determining the positive and negative scores of the text above. However, there are limitations in how much it can understand. Since tweets are brief outburts of opinion, machine learning cannot understand or incorporate context into its calculations. Because of this, it can only determine if certain individual words or phrases are positive or negative, then summing up the score. Not being able to read the whole tweet in context limits its accuracy."
   ]
  },
  {
   "cell_type": "markdown",
   "id": "e4bb975b-d9ee-4e95-bc61-ad8b395cfde1",
   "metadata": {},
   "source": [
    "GENISM AND LDA"
   ]
  },
  {
   "cell_type": "markdown",
   "id": "3c15eb41-bf06-4f46-8b38-306e19990565",
   "metadata": {},
   "source": [
    "For Trump Tweets"
   ]
  },
  {
   "cell_type": "code",
   "execution_count": 157,
   "id": "b948a299-627c-41ac-92eb-5b7c2af07fd0",
   "metadata": {},
   "outputs": [],
   "source": [
    "from nltk.tokenize import sent_tokenize, word_tokenize\n",
    "from nltk.corpus import stopwords\n",
    "from string import punctuation"
   ]
  },
  {
   "cell_type": "code",
   "execution_count": 182,
   "id": "e120c09e-a277-4d28-a30f-cc526e31bfb3",
   "metadata": {},
   "outputs": [
    {
     "data": {
      "text/plain": [
       "['respectful',\n",
       " 'conversation',\n",
       " 'widow',\n",
       " 'sgt',\n",
       " 'la',\n",
       " 'david',\n",
       " 'johnson',\n",
       " 'spoke',\n",
       " 'name',\n",
       " 'beginning',\n",
       " 'without',\n",
       " 'hesitation']"
      ]
     },
     "execution_count": 182,
     "metadata": {},
     "output_type": "execute_result"
    }
   ],
   "source": [
    "#locate punctuation\n",
    "myStopWords = list(punctuation) + stopwords.words('english')\n",
    "[w for w in word_tokenize(trump_text[0].lower()) if w not in myStopWords]"
   ]
  },
  {
   "cell_type": "code",
   "execution_count": 183,
   "id": "9e5676f5-c7a6-4a54-800f-840248645cf1",
   "metadata": {},
   "outputs": [],
   "source": [
    "#iterate through trump tweets\n",
    "docs = []\n",
    "for i in trump_text:\n",
    "    docs.append([w for w in word_tokenize(i.lower()) if w not in myStopWords])"
   ]
  },
  {
   "cell_type": "code",
   "execution_count": 184,
   "id": "0a229d26-0c4f-431b-b24c-6e29bcd1c425",
   "metadata": {},
   "outputs": [
    {
     "data": {
      "text/plain": [
       "'I had a very respectful conversation with the widow of Sgt. La David Johnson, and spoke his name from beginning, without hesitation!'"
      ]
     },
     "execution_count": 184,
     "metadata": {},
     "output_type": "execute_result"
    }
   ],
   "source": [
    "trump_text[0]"
   ]
  },
  {
   "cell_type": "code",
   "execution_count": 185,
   "id": "8c89c348-2058-4153-b1dd-b9801e1fac6b",
   "metadata": {},
   "outputs": [],
   "source": [
    "from nltk.stem.porter import PorterStemmer\n",
    "#from nltk.stem import LancasterStemmer\n",
    "# Create p_stemmer of class PorterStemmer\n",
    "p_stemmer = PorterStemmer()"
   ]
  },
  {
   "cell_type": "code",
   "execution_count": 186,
   "id": "daa456bd-8bd9-4f28-ae46-ede1673bcf76",
   "metadata": {},
   "outputs": [],
   "source": [
    "docs_stemmed = []\n",
    "for i in docs:\n",
    "    docs_stemmed.append([p_stemmer.stem(w) for w in i])"
   ]
  },
  {
   "cell_type": "code",
   "execution_count": 187,
   "id": "9cff27d4-bdc9-431a-80e2-a6cfc26588b2",
   "metadata": {},
   "outputs": [
    {
     "data": {
      "text/plain": [
       "['respect',\n",
       " 'convers',\n",
       " 'widow',\n",
       " 'sgt',\n",
       " 'la',\n",
       " 'david',\n",
       " 'johnson',\n",
       " 'spoke',\n",
       " 'name',\n",
       " 'begin',\n",
       " 'without',\n",
       " 'hesit']"
      ]
     },
     "execution_count": 187,
     "metadata": {},
     "output_type": "execute_result"
    }
   ],
   "source": [
    "docs_stemmed[0]"
   ]
  },
  {
   "cell_type": "code",
   "execution_count": 188,
   "id": "1d3f9218-0d06-4237-80ba-860f01798ecf",
   "metadata": {},
   "outputs": [],
   "source": [
    "from gensim import corpora, models\n",
    "import gensim"
   ]
  },
  {
   "cell_type": "code",
   "execution_count": 189,
   "id": "695e1ce8-6c3f-4454-9c34-15fa7410b5b3",
   "metadata": {},
   "outputs": [
    {
     "data": {
      "text/plain": [
       "7316"
      ]
     },
     "execution_count": 189,
     "metadata": {},
     "output_type": "execute_result"
    }
   ],
   "source": [
    "#dictionary length\n",
    "dictionary = corpora.Dictionary(docs_stemmed)\n",
    "len(dictionary)"
   ]
  },
  {
   "cell_type": "code",
   "execution_count": 190,
   "id": "d5ac1bb8-2b48-4e17-85a9-0ca97bbf56e1",
   "metadata": {},
   "outputs": [
    {
     "data": {
      "text/plain": [
       "750"
      ]
     },
     "execution_count": 190,
     "metadata": {},
     "output_type": "execute_result"
    }
   ],
   "source": [
    "#filter dictionary\n",
    "dictionary.filter_extremes(no_below=10, no_above=0.5)\n",
    "len(dictionary)"
   ]
  },
  {
   "cell_type": "code",
   "execution_count": 174,
   "id": "43986747-0f76-4cea-bd19-e75c8fa07636",
   "metadata": {},
   "outputs": [
    {
     "name": "stdout",
     "output_type": "stream",
     "text": [
      "{'begin': 0, 'david': 1, 'la': 2, 'name': 3, 'respect': 4, 'spoke': 5, 'without': 6, 'amp': 7, 'anthem': 8, 'continu': 9, 'countri': 10, 'disrespect': 11, 'flag': 12, 'leadership': 13, 'nation': 14, 'nfl': 15, 'player': 16, 'show': 17, 'total': 18, 'two': 19, 'alway': 20, 'chang': 21, 'class': 22, 'great': 23, 'middl': 24, 'popular': 25, 'stay': 26, 'tax': 27, 'work': 28, 'believ': 29, 'even': 30, 'fabric': 31, 'fake': 32, 'final': 33, 'lost': 34, 'major': 35, 'news': 36, 'peopl': 37, 'stori': 38, 'wors': 39, 'action': 40, 'dem': 41, 'disast': 42, 'give': 43, 'keep': 44, 'parti': 45, 'r': 46, 'republican': 47, 'vote': 48, 'watch': 49, 'a.m.': 50, 'enjoy': 51, 'foxnew': 52, 'interview': 53, 'today': 54, '...': 55, 'court': 56, 'histor': 57, 'isi': 58, 'justic': 59, 'market': 60, 'militari': 61, 'record': 62, 'stock': 63, 'strong': 64, 'suprem': 65, '....': 66, '50': 67, 'administr': 68, 'approv': 69, 'border': 70, 'cut': 71, 'energi': 72, 'freedom': 73, 'legisl': 74, 'massiv': 75, 'month': 76, 'regul': 77, 'secur': 78, '.....': 79, 'agre': 80, 'also': 81, 'done': 82, 'first': 83, 'get': 84, 'healthcar': 85, 'import': 86, 'perhap': 87, \"''\": 88, '``': 89, 'claim': 90, 'job': 91, 'report': 92, 'sinc': 93, 'u.s.': 94, 'clinton': 95, 'crook': 96, 'dollar': 97, 'elect': 98, 'facebook': 99, 'hillari': 100, 'million': 101, 'presidenti': 102, 'spent': 103, 'abc': 104, 'ad': 105, 'billion': 106, 'cnn': 107, 'hear': 108, 'money': 109, 'nbc': 110, 'depart': 111, 'fbi': 112, 'immedi': 113, 'offici': 114, 'paid': 115, 'releas': 116, 'http': 117, 'anoth': 118, 'friday': 119, 'high': 120, 'hit': 121, 'much': 122, \"n't\": 123, 'time': 124, 'trillion': 125, 'go': 126, 'presid': 127, 'rt': 128, 'trump': 129, 'tune': 130, 'allow': 131, 'classifi': 132, 'inform': 133, 'long': 134, 'open': 135, 'democrat': 136, 'hope': 137, 'kill': 138, 'media': 139, 'repres': 140, 'talk': 141, 'big': 142, 'biggest': 143, 'budget': 144, 'cover': 145, 'deal': 146, 'histori': 147, 'pass': 148, 'realli': 149, 'call': 150, 'man': 151, 'place': 152, 'wonder': 153, 'american': 154, 'join': 155, 'honor': 156, 'speak': 157, 'whitehous': 158, 'foxandfriend': 159, 'thank': 160, 'america': 161, 'crime': 162, 'good': 163, 'islam': 164, 'must': 165, 'radic': 166, 'safe': 167, 'terror': 168, 'unit': 169, 'larg': 170, 'reform': 171, '51': 172, 'got': 173, 'last': 174, 'night': 175, 'paul': 176, 'zero': 177, 'deliv': 178, 'step': 179, 'taxreform': 180, 'john': 181, 'rate': 182, 'right': 183, 'seanhann': 184, 'vega': 185, 'crazi': 186, 'gave': 187, 'lie': 188, 'person': 189, '100': 190, 'lose': 191, 'governor': 192, 'us': 193, 'obama': 194, 'realdonaldtrump': 195, 'foundat': 196, 'russia': 197, 'take': 198, 'worker': 199, 'follow': 200, 'help': 201, 'want': 202, 'know': 203, 'think': 204, 'actual': 205, 'hard': 206, 'maga': 207, 'one': 208, 'year': 209, 'real': 210, 'usa_–©–∞—ò_–©–∞—å': 211, 'stand': 212, '..': 213, 'iran': 214, 'nuclear': 215, 'committe': 216, 'member': 217, 'senat': 218, 'welcom': 219, 'bless': 220, 'brave': 221, 'fema': 222, 'god': 223, 'respond': 224, 'support': 225, 'team': 226, 'need': 227, \"'s\": 228, 'made': 229, 'never': 230, 'w/': 231, 'die': 232, 'sad': 233, 'said': 234, 'forc': 235, 'play': 236, 'best': 237, 'comey': 238, 'ever': 239, 'happen': 240, 'jame': 241, 'leak': 242, 'protect': 243, 'thing': 244, 'turn': 245, 'increas': 246, 'fix': 247, 'includ': 248, 'state': 249, 'complet': 250, 'investig': 251, 'mani': 252, 'wow': 253, '_–©_': 254, 'truth': 255, 'ëhttp': 256, '“': 257, 'economi': 258, 'industri': 259, 'wall': 260, 'chanc': 261, 'obamacar': 262, 'premium': 263, 'product': 264, 'may': 265, 'nbcnew': 266, 'put': 267, 'minist': 268, 'prime': 269, 'wh': 270, 'live': 271, '‚ä∞_–ë‚ä¢—å–èhttp': 272, 'drug': 273, 'day': 274, 'scavino45': 275, 'beauti': 276, 'carolina': 277, 'see': 278, 'south': 279, 'answer': 280, 'ask': 281, 'run': 282, 'busi': 283, 'enthusiasm': 284, '25': 285, '8': 286, 'back': 287, 'come': 288, 'compani': 289, 'low': 290, 'novemb': 291, 'u.': 292, 'chuck': 293, 'israel': 294, 'schumer': 295, 'tell': 296, 'obstruct': 297, 'bill': 298, 'could': 299, 'ivanka': 300, 'women': 301, 'fight': 302, 'grow': 303, 'mike_p': 304, 'look': 305, 'new': 306, 'fail': 307, 'fast': 308, 'nytim': 309, 'pari': 310, 'rapid': 311, 'erictrump': 312, 'fox': 313, 'special': 314, 'tonight': 315, 'forward': 316, 'makeamericagreatagain': 317, 'friend': 318, 'head': 319, 'make': 320, 'virginia': 321, 'let': 322, 'part': 323, 'cost': 324, 'execut': 325, 'far': 326, 'lower': 327, 'order': 328, 'proud': 329, 'end': 330, 'gone': 331, 'health': 332, 'insur': 333, 'yesterday': 334, 'confid': 335, 'highest': 336, 'level': 337, '2016': 338, 'accomplish': 339, 'statement': 340, 'deduct': 341, 'way': 342, 'smart': 343, 'lot': 344, 'speech': 345, 'trade': 346, 'better': 347, 'leader': 348, 'start': 349, 'announc': 350, 'govern': 351, 'birthday': 352, 'happi': 353, 'incred': 354, 'men': 355, 'serv': 356, 'bad': 357, 'puerto': 358, 'rico': 359, 'spirit': 360, 'left': 361, 'longer': 362, 'sanctuari': 363, 'mess': 364, 'other': 365, 'public': 366, 'corrupt': 367, 'free': 368, 'press': 369, 'stop': 370, 'care': 371, 'commun': 372, 'rebuild': 373, 'dishonest': 374, 'fakenew': 375, 'find': 376, 'famili': 377, 'system': 378, 'amaz': 379, 'congress': 380, 'hurrican': 381, 'say': 382, 'spend': 383, 'courag': 384, 'love': 385, 'becom': 386, 'challeng': 387, 'network': 388, 'pennsylvania': 389, 'enforc': 390, 'law': 391, 'local': 392, 'point': 393, 'nice': 394, 'would': 395, 'number': 396, '8th': 397, 'chief': 398, 'fantast': 399, 'fire': 400, 'usa': 401, 'gener': 402, 'hurt': 403, 'kelli': 404, 'soon': 405, 'tri': 406, '2017': 407, 'flotu': 408, 'host': 409, 'fool': 410, 'set': 411, 'came': 412, 'donald': 413, 'highli': 414, 'badli': 415, 'fact': 416, 'mike': 417, 'act': 418, 'ca': 419, 'power': 420, 'togeth': 421, 'use': 422, 'immigr': 423, 'polici': 424, 'problem': 425, 'safeti': 426, 'close': 427, 'greatest': 428, 'ivankatrump': 429, 'ralli': 430, 'game': 431, 'j.': 432, 'leav': 433, 'penc': 434, 'plan': 435, 'vp': 436, 'korea': 437, 'north': 438, 'noth': 439, 'small': 440, 'littl': 441, 'lead': 442, 'control': 443, 'yet': 444, 'expect': 445, 'endors': 446, 'secretari': 447, 'win': 448, 'given': 449, 'hous': 450, 'progress': 451, 'white': 452, 'negoti': 453, '......': 454, 'everyon': 455, 'pleas': 456, 'prepar': 457, '1': 458, 'matter': 459, 'coverag': 460, 'campaign': 461, 'discuss': 462, 'voter': 463, 'offic': 464, 'potu': 465, 'citi': 466, 'gang': 467, 'manufactur': 468, 'forget': 469, 'meet': 470, 'polic': 471, 'victim': 472, 'save': 473, 'melania': 474, 'visit': 475, 'behalf': 476, 'grate': 477, 'hero': 478, 'land': 479, 'pay': 480, 'prayer': 481, 'thought': 482, 'apolog': 483, 'issu': 484, 'around': 485, 'commit': 486, 'possibl': 487, 'provid': 488, 'abl': 489, 'd.c.': 490, 'tomorrow': 491, 'condol': 492, 'terribl': 493, 'congratul': 494, 'victori': 495, 'told': 496, 'build': 497, 'almost': 498, 'polit': 499, 'protest': 500, 'alabama': 501, 'candid': 502, 'race': 503, 'went': 504, 'seen': 505, 'everyth': 506, 'effort': 507, 'mayor': 508, 'result': 509, \"'re\": 510, 'truli': 511, 'everi': 512, 'guy': 513, 'despit': 514, 'away': 515, 'tuesday': 516, 'video': 517, 'destroy': 518, 'feder': 519, 'ago': 520, 'optim': 521, 'address': 522, 'weekli': 523, 'kellyannepol': 524, 'econom': 525, 'futur': 526, 'reach': 527, 'week': 528, 'decis': 529, \"'ve\": 530, '3': 531, 'inaugur': 532, 'check': 533, 'bring': 534, 'home': 535, 'wish': 536, 'dead': 537, 'review': 538, 'arriv': 539, 'indiana': 540, 'collus': 541, 'rule': 542, 'mccain': 543, 'posit': 544, 'sign': 545, 'like': 546, 'luther': 547, 'strang': 548, 'council': 549, 'met': 550, 'attack': 551, 'mean': 552, 'word': 553, 'entir': 554, 'heard': 555, 'whether': 556, 'repeal': 557, 'replac': 558, 'top': 559, 'well': 560, 'old': 561, 'alreadi': 562, 'florida': 563, 'texa': 564, 'tremend': 565, 'return': 566, 'vet': 567, '7': 568, 'arizona': 569, '--': 570, 'patriot': 571, '‚ä∞–´_': 572, 'refus': 573, 'foreign': 574, 'consid': 575, 'crowd': 576, 'worst': 577, 'unga': 578, 'next': 579, 'bias': 580, 'harvey': 581, 'debat': 582, 'world': 583, 'poll': 584, 'york': 585, 'morn': 586, 'tough': 587, 'afternoon': 588, 'peac': 589, 'promis': 590, 'ocar': 591, 'interest': 592, 'deplor': 593, 'question': 594, 'true': 595, 'mexico': 596, 'americafirst_–©–∞—ò_–©–∞—å': 597, 'full': 598, 'remark': 599, 'defend': 600, 'restor': 601, 'franc': 602, 'focu': 603, 'less': 604, 'terrorist': 605, 'ban': 606, 'travel': 607, 'stronger': 608, 'crookedhillari': 609, 'form': 610, 'line': 611, 'attorney': 612, 'michigan': 613, 'saturday': 614, 'life': 615, 'price': 616, 'berni': 617, 'push': 618, 'unbeliev': 619, 'etc': 620, 'loss': 621, 'china': 622, 'move': 623, 'son': 624, 'anyon': 625, 'cabinet': 626, 'camp': 627, 'donaldjtrumpjr': 628, 'readi': 629, 'wait': 630, 'extrem': 631, 'prosper': 632, 'confer': 633, 'concern': 634, 'gop': 635, 'rais': 636, \"'trump\": 637, 'danscavino': 638, 'hand': 639, 'matti': 640, 'success': 641, 'threat': 642, 'danger': 643, 'rememb': 644, 'louisiana': 645, 'hurricaneharvey': 646, 'still': 647, 'rig': 648, 'center': 649, 'veteran': 650, 'fals': 651, 'read': 652, 'secret': 653, 'ahead': 654, 'air': 655, 'servic': 656, 'caught': 657, 'differ': 658, 'hold': 659, 'phoenix': 660, 'weak': 661, 'draintheswamp': 662, 'via': 663, 'maga_–©–∞—ò_–©–∞—å': 664, 'p.m.': 665, 'ticket': 666, 'washington': 667, 'bedminst': 668, 'delay': 669, 'taken': 670, 'reason': 671, 'idea': 672, 'excit': 673, 'ceo': 674, 'russian': 675, 'chicago': 676, 'defens': 677, 'e-mail': 678, 'nevada': 679, 'sourc': 680, 'judg': 681, 'phoni': 682, 'base': 683, 'west': 684, 'iowa': 685, 'ohio': 686, 'wrong': 687, 'took': 688, 'creat': 689, 'email': 690, 'post': 691, 'invest': 692, 'movement': 693, 'wisconsin': 694, 'plant': 695, 'hunt': 696, 'witch': 697, 'scandal': 698, 'session': 699, 'dnc': 700, 'server': 701, 'excus': 702, 'ford': 703, 'podesta': 704, 'illeg': 705, 'intellig': 706, 'event': 707, 'icymi-': 708, 'germani': 709, 'putin': 710, 'instead': 711, 'info': 712, 'former': 713, 'hillaryclinton': 714, 'celebr': 715, 'tower': 716, 'iraq': 717, 'syria': 718, 'hack': 719, 'icymi': 720, '30': 721, 'fraud': 722, 'crimin': 723, 'nomin': 724, 'case': 725, 'georgia': 726, 'americafirst': 727, 'drudge_report': 728, '7pm': 729, 'horribl': 730, 'regist': 731, 'thankyoutour2016': 732, '3pm': 733, 'hampshir': 734, 'votetrumppence16': 735, 'colorado': 736, 'teamtrump': 737, 'imwithy': 738, 'wikileak': 739, '11/8': 740, 'trumppence16': 741, 'kain': 742, '//t.co/3kwol2ibaw': 743, 'bigleaguetruth': 744, 'debates2016': 745, 'vpdebat': 746, 'timkain': 747, 'debatenight': 748, 'african-american': 749}\n"
     ]
    }
   ],
   "source": [
    "print(dictionary.token2id)"
   ]
  },
  {
   "cell_type": "code",
   "execution_count": 181,
   "id": "29372de5-f425-44e1-8dc0-c3614e6b9d59",
   "metadata": {},
   "outputs": [
    {
     "name": "stdout",
     "output_type": "stream",
     "text": [
      "136\n",
      "democrat\n"
     ]
    }
   ],
   "source": [
    "print(dictionary.token2id['democrat'])\n",
    "print(dictionary[136])"
   ]
  },
  {
   "cell_type": "code",
   "execution_count": 194,
   "id": "46a96951-2a35-43c2-bd55-9656cdf534a1",
   "metadata": {},
   "outputs": [
    {
     "name": "stdout",
     "output_type": "stream",
     "text": [
      "161\n",
      "america\n"
     ]
    }
   ],
   "source": [
    "print(dictionary.token2id['america'])\n",
    "print(dictionary[161])"
   ]
  },
  {
   "cell_type": "code",
   "execution_count": 195,
   "id": "1f71422f-19e7-4b24-a229-bf0d113fdbcd",
   "metadata": {},
   "outputs": [
    {
     "name": "stdout",
     "output_type": "stream",
     "text": [
      "[(23, 1), (28, 1), (44, 1), (55, 1), (58, 1), (88, 1), (89, 1), (117, 2), (190, 1), (191, 1)]\n"
     ]
    }
   ],
   "source": [
    "corpus = [dictionary.doc2bow(text) for text in docs_stemmed]\n",
    "print(corpus[30])"
   ]
  },
  {
   "cell_type": "code",
   "execution_count": 196,
   "id": "5c766015-cc25-4fd2-95fd-79979c8ccfba",
   "metadata": {},
   "outputs": [
    {
     "name": "stdout",
     "output_type": "stream",
     "text": [
      "great 1\n",
      "great 1\n",
      "work 1\n",
      "keep 1\n",
      "... 1\n",
      "isi 1\n",
      "'' 1\n",
      "`` 1\n",
      "http 2\n",
      "100 1\n",
      "lose 1\n"
     ]
    }
   ],
   "source": [
    "wordid = corpus[30][0]\n",
    "print(dictionary[wordid[0]],wordid[1])\n",
    "for i in corpus[30]:\n",
    "    print(dictionary[i[0]], i[1])"
   ]
  },
  {
   "cell_type": "code",
   "execution_count": 197,
   "id": "d5e3d7b0-f20e-4019-8bfa-e2da3c409d07",
   "metadata": {},
   "outputs": [
    {
     "data": {
      "text/plain": [
       "[(0,\n",
       "  '0.036*\"work\" + 0.032*\"hard\" + 0.032*\"amp\" + 0.026*\"danscavino\" + 0.025*\"wonder\" + 0.025*\"news\" + 0.022*\"fake\" + 0.018*\"puerto\" + 0.018*\"rico\" + 0.018*\"great\"'),\n",
       " (1,\n",
       "  '0.045*\"last\" + 0.036*\"night\" + 0.032*\"state\" + 0.024*\"time\" + 0.022*\"unit\" + 0.021*\"go\" + 0.018*\"great\" + 0.016*\"vote\" + 0.016*\"http\" + 0.016*\"deal\"'),\n",
       " (2,\n",
       "  '0.049*\"fail\" + 0.040*\"cnn\" + 0.039*\"nytim\" + 0.031*\"elect\" + 0.031*\"thought\" + 0.031*\"washington\" + 0.024*\"news\" + 0.024*\"stori\" + 0.022*\"report\" + 0.019*\"prayer\"'),\n",
       " (3,\n",
       "  '0.058*\"``\" + 0.057*\"\\'\\'\" + 0.046*\"hillari\" + 0.033*\"clinton\" + 0.031*\"said\" + 0.029*\"n\\'t\" + 0.026*\"enjoy\" + 0.022*\"interview\" + 0.019*\"crook\" + 0.018*\"...\"'),\n",
       " (4,\n",
       "  '0.046*\"back\" + 0.036*\"news\" + 0.032*\"meet\" + 0.029*\"border\" + 0.027*\"look\" + 0.025*\"head\" + 0.024*\"forward\" + 0.023*\"7pm\" + 0.023*\"countri\" + 0.021*\"job\"'),\n",
       " (5,\n",
       "  '0.035*\"n\\'t\" + 0.034*\"hillari\" + 0.032*\"media\" + 0.028*\"like\" + 0.025*\"never\" + 0.025*\"peopl\" + 0.025*\"run\" + 0.021*\"wow\" + 0.019*\"clinton\" + 0.019*\"dishonest\"'),\n",
       " (6,\n",
       "  '0.060*\"debat\" + 0.058*\"hillaryclinton\" + 0.048*\"http\" + 0.029*\"\\'s\" + 0.029*\"soon\" + 0.024*\"great\" + 0.023*\"see\" + 0.020*\"fbi\" + 0.018*\"poll\" + 0.016*\"30\"'),\n",
       " (7,\n",
       "  '0.032*\"mani\" + 0.027*\"presid\" + 0.026*\"obama\" + 0.026*\"look\" + 0.026*\"win\" + 0.025*\"would\" + 0.019*\"n\\'t\" + 0.018*\"big\" + 0.017*\"good\" + 0.017*\"call\"'),\n",
       " (8,\n",
       "  '0.048*\"vote\" + 0.040*\"amp\" + 0.035*\"hillari\" + 0.030*\"countri\" + 0.025*\"john\" + 0.019*\"think\" + 0.019*\"http\" + 0.017*\"crook\" + 0.016*\"\\'s\" + 0.015*\"even\"'),\n",
       " (9,\n",
       "  '0.081*\"job\" + 0.037*\"first\" + 0.037*\"way\" + 0.026*\"great\" + 0.024*\"mani\" + 0.021*\"amp\" + 0.020*\"new\" + 0.020*\"number\" + 0.019*\"http\" + 0.019*\"economi\"'),\n",
       " (10,\n",
       "  '0.030*\"hillari\" + 0.028*\"u.s.\" + 0.025*\"make\" + 0.024*\"bad\" + 0.024*\"deal\" + 0.023*\"\\'s\" + 0.021*\"clinton\" + 0.021*\"debat\" + 0.019*\"http\" + 0.017*\"realli\"'),\n",
       " (11,\n",
       "  '0.217*\"rt\" + 0.124*\"realdonaldtrump\" + 0.088*\"http\" + 0.038*\"trump\" + 0.025*\"``\" + 0.022*\"iowa\" + 0.022*\"potu\" + 0.022*\"foxandfriend\" + 0.019*\"presid\" + 0.017*\"ivankatrump\"'),\n",
       " (12,\n",
       "  '0.062*\"thank\" + 0.047*\"great\" + 0.046*\"ralli\" + 0.039*\"ohio\" + 0.038*\"http\" + 0.036*\"crowd\" + 0.033*\"support\" + 0.032*\"vote\" + 0.025*\"pennsylvania\" + 0.023*\"amp\"'),\n",
       " (13,\n",
       "  '0.051*\"obamacar\" + 0.041*\"amp\" + 0.032*\"repeal\" + 0.032*\"http\" + 0.031*\"replac\" + 0.027*\"year\" + 0.026*\"american\" + 0.023*\"must\" + 0.020*\"new\" + 0.017*\"time\"'),\n",
       " (14,\n",
       "  '0.076*\"http\" + 0.065*\"great\" + 0.043*\"go\" + 0.036*\"florida\" + 0.034*\"make\" + 0.030*\"vote\" + 0.030*\"thank\" + 0.029*\"america\" + 0.026*\"state\" + 0.026*\"today\"'),\n",
       " (15,\n",
       "  '0.079*\"americafirst\" + 0.067*\"tax\" + 0.055*\"http\" + 0.041*\"put\" + 0.032*\"plan\" + 0.031*\"amp\" + 0.026*\"want\" + 0.025*\"cut\" + 0.024*\"great\" + 0.018*\"w/\"'),\n",
       " (16,\n",
       "  '0.067*\"http\" + 0.057*\"amp\" + 0.057*\"great\" + 0.053*\"america\" + 0.043*\"togeth\" + 0.040*\"make\" + 0.032*\"safe\" + 0.029*\"peopl\" + 0.023*\"thank\" + 0.023*\"need\"'),\n",
       " (17,\n",
       "  '0.138*\"``\" + 0.128*\"\\'\\'\" + 0.050*\"trump\" + 0.031*\"http\" + 0.029*\"mike_p\" + 0.027*\"\\'s\" + 0.024*\"donald\" + 0.022*\"hillari\" + 0.022*\"clinton\" + 0.018*\"governor\"'),\n",
       " (18,\n",
       "  '0.169*\"http\" + 0.078*\"draintheswamp\" + 0.037*\"thank\" + 0.034*\"makeamericagreatagain\" + 0.027*\"north\" + 0.022*\"clinton\" + 0.021*\"maga\" + 0.021*\"carolina\" + 0.019*\"crookedhillari\" + 0.017*\"trump\"'),\n",
       " (19,\n",
       "  '0.319*\"http\" + 0.069*\"join\" + 0.046*\"thank\" + 0.026*\"today\" + 0.024*\"tomorrow\" + 0.022*\"watch\" + 0.021*\"honor\" + 0.020*\"ticket\" + 0.020*\"live\" + 0.020*\"great\"')]"
      ]
     },
     "execution_count": 197,
     "metadata": {},
     "output_type": "execute_result"
    }
   ],
   "source": [
    "ldamodel = gensim.models.ldamodel.LdaModel(corpus, \n",
    "                                           num_topics=20, \n",
    "                                           id2word = dictionary, \n",
    "                                           passes=5)\n",
    "ldamodel.show_topics(num_topics=20)"
   ]
  },
  {
   "cell_type": "code",
   "execution_count": 198,
   "id": "1d5842e7-9572-4ac1-963a-cf5687ba9147",
   "metadata": {},
   "outputs": [
    {
     "name": "stdout",
     "output_type": "stream",
     "text": [
      "0\n",
      "0.036*\"work\" + 0.032*\"hard\" + 0.032*\"amp\" + 0.026*\"danscavino\" + 0.025*\"wonder\" + 0.025*\"news\" + 0.022*\"fake\" + 0.018*\"puerto\" + 0.018*\"rico\" + 0.018*\"great\" + 0.017*\"watch\" + 0.017*\"cnn\" + 0.016*\"alway\" + 0.015*\"facebook\" + 0.015*\"media\" + 0.015*\"total\" + 0.015*\"hope\" + 0.014*\"bias\" + 0.014*\"wisconsin\" + 0.013*\"secret\"\n",
      "\n",
      "\n",
      "1\n",
      "0.045*\"last\" + 0.036*\"night\" + 0.032*\"state\" + 0.024*\"time\" + 0.022*\"unit\" + 0.021*\"go\" + 0.018*\"great\" + 0.016*\"vote\" + 0.016*\"http\" + 0.016*\"deal\" + 0.015*\"would\" + 0.015*\"movement\" + 0.015*\"tax\" + 0.015*\"sad\" + 0.015*\"corrupt\" + 0.014*\"'s\" + 0.014*\"win\" + 0.013*\"u.s.\" + 0.013*\"indiana\" + 0.012*\"let\"\n",
      "\n",
      "\n",
      "2\n",
      "0.049*\"fail\" + 0.040*\"cnn\" + 0.039*\"nytim\" + 0.031*\"elect\" + 0.031*\"thought\" + 0.031*\"washington\" + 0.024*\"news\" + 0.024*\"stori\" + 0.022*\"report\" + 0.019*\"prayer\" + 0.019*\"time\" + 0.018*\"fake\" + 0.018*\"result\" + 0.016*\"sinc\" + 0.016*\"d.c.\" + 0.016*\"record\" + 0.015*\"poll\" + 0.015*\"market\" + 0.013*\"even\" + 0.013*\"high\"\n",
      "\n",
      "\n",
      "3\n",
      "0.058*\"``\" + 0.057*\"''\" + 0.046*\"hillari\" + 0.033*\"clinton\" + 0.031*\"said\" + 0.029*\"n't\" + 0.026*\"enjoy\" + 0.022*\"interview\" + 0.019*\"crook\" + 0.018*\"...\" + 0.017*\"'s\" + 0.017*\"elect\" + 0.016*\"would\" + 0.015*\"never\" + 0.014*\"say\" + 0.012*\"believ\" + 0.012*\"media\" + 0.011*\"stori\" + 0.011*\"foxnew\" + 0.011*\"tonight\"\n",
      "\n",
      "\n",
      "4\n",
      "0.046*\"back\" + 0.036*\"news\" + 0.032*\"meet\" + 0.029*\"border\" + 0.027*\"look\" + 0.025*\"head\" + 0.024*\"forward\" + 0.023*\"7pm\" + 0.023*\"countri\" + 0.021*\"job\" + 0.021*\"bring\" + 0.020*\"fake\" + 0.020*\"discuss\" + 0.018*\"friday\" + 0.018*\"secur\" + 0.017*\"wall\" + 0.017*\"billion\" + 0.015*\"confer\" + 0.015*\"today\" + 0.015*\"drug\"\n",
      "\n",
      "\n",
      "5\n",
      "0.035*\"n't\" + 0.034*\"hillari\" + 0.032*\"media\" + 0.028*\"like\" + 0.025*\"never\" + 0.025*\"peopl\" + 0.025*\"run\" + 0.021*\"wow\" + 0.019*\"clinton\" + 0.019*\"dishonest\" + 0.018*\"...\" + 0.018*\"get\" + 0.017*\"lie\" + 0.016*\"best\" + 0.015*\"lead\" + 0.014*\"support\" + 0.014*\"system\" + 0.013*\"attack\" + 0.013*\"total\" + 0.013*\"top\"\n",
      "\n",
      "\n",
      "6\n",
      "0.060*\"debat\" + 0.058*\"hillaryclinton\" + 0.048*\"http\" + 0.029*\"'s\" + 0.029*\"soon\" + 0.024*\"great\" + 0.023*\"see\" + 0.020*\"fbi\" + 0.018*\"poll\" + 0.016*\"30\" + 0.015*\"back\" + 0.014*\"new\" + 0.014*\"done\" + 0.014*\"--\" + 0.012*\"thank\" + 0.012*\"get\" + 0.012*\"work\" + 0.012*\"leav\" + 0.012*\"email\" + 0.012*\"tonight\"\n",
      "\n",
      "\n",
      "7\n",
      "0.032*\"mani\" + 0.027*\"presid\" + 0.026*\"obama\" + 0.026*\"look\" + 0.026*\"win\" + 0.025*\"would\" + 0.019*\"n't\" + 0.018*\"big\" + 0.017*\"good\" + 0.017*\"call\" + 0.017*\"get\" + 0.017*\"bad\" + 0.016*\"much\" + 0.016*\"year\" + 0.016*\"want\" + 0.015*\"thing\" + 0.013*\"fix\" + 0.012*\"done\" + 0.012*\"say\" + 0.012*\"includ\"\n",
      "\n",
      "\n",
      "8\n",
      "0.048*\"vote\" + 0.040*\"amp\" + 0.035*\"hillari\" + 0.030*\"countri\" + 0.025*\"john\" + 0.019*\"think\" + 0.019*\"http\" + 0.017*\"crook\" + 0.016*\"'s\" + 0.015*\"even\" + 0.014*\"great\" + 0.013*\"chang\" + 0.013*\"job\" + 0.013*\"republican\" + 0.013*\"million\" + 0.013*\"less\" + 0.012*\"nfl\" + 0.012*\"peopl\" + 0.012*\"senat\" + 0.012*\"know\"\n",
      "\n",
      "\n",
      "9\n",
      "0.081*\"job\" + 0.037*\"first\" + 0.037*\"way\" + 0.026*\"great\" + 0.024*\"mani\" + 0.021*\"amp\" + 0.020*\"new\" + 0.020*\"number\" + 0.019*\"http\" + 0.019*\"economi\" + 0.017*\"law\" + 0.017*\"nevada\" + 0.016*\"foxandfriend\" + 0.015*\"poll\" + 0.014*\"air\" + 0.013*\"respond\" + 0.013*\"presidenti\" + 0.012*\"despit\" + 0.012*\"elect\" + 0.012*\"enforc\"\n",
      "\n",
      "\n",
      "10\n",
      "0.030*\"hillari\" + 0.028*\"u.s.\" + 0.025*\"make\" + 0.024*\"bad\" + 0.024*\"deal\" + 0.023*\"'s\" + 0.021*\"clinton\" + 0.021*\"debat\" + 0.019*\"http\" + 0.017*\"realli\" + 0.016*\"trade\" + 0.016*\"busi\" + 0.015*\"polici\" + 0.014*\"militari\" + 0.014*\"one\" + 0.014*\"n't\" + 0.013*\"countri\" + 0.013*\"peopl\" + 0.012*\"part\" + 0.012*\"bill\"\n",
      "\n",
      "\n",
      "11\n",
      "0.217*\"rt\" + 0.124*\"realdonaldtrump\" + 0.088*\"http\" + 0.038*\"trump\" + 0.025*\"``\" + 0.022*\"iowa\" + 0.022*\"potu\" + 0.022*\"foxandfriend\" + 0.019*\"presid\" + 0.017*\"ivankatrump\" + 0.016*\"love\" + 0.015*\"maga\" + 0.015*\"''\" + 0.013*\"la\" + 0.012*\"erictrump\" + 0.011*\"foxnew\" + 0.010*\"new\" + 0.010*\"poll\" + 0.008*\"vega\" + 0.008*\"drudge_report\"\n",
      "\n",
      "\n",
      "12\n",
      "0.062*\"thank\" + 0.047*\"great\" + 0.046*\"ralli\" + 0.039*\"ohio\" + 0.038*\"http\" + 0.036*\"crowd\" + 0.033*\"support\" + 0.032*\"vote\" + 0.025*\"pennsylvania\" + 0.023*\"amp\" + 0.021*\"big\" + 0.020*\"make\" + 0.019*\"new\" + 0.016*\"america\" + 0.016*\"massiv\" + 0.015*\"trump\" + 0.014*\"email\" + 0.014*\"land\" + 0.013*\"hack\" + 0.012*\"speech\"\n",
      "\n",
      "\n",
      "13\n",
      "0.051*\"obamacar\" + 0.041*\"amp\" + 0.032*\"repeal\" + 0.032*\"http\" + 0.031*\"replac\" + 0.027*\"year\" + 0.026*\"american\" + 0.023*\"must\" + 0.020*\"new\" + 0.017*\"time\" + 0.017*\"disast\" + 0.016*\"clinton\" + 0.016*\"let\" + 0.016*\"take\" + 0.016*\"illeg\" + 0.015*\"debat\" + 0.015*\"draintheswamp\" + 0.012*\"rapid\" + 0.012*\"email\" + 0.011*\"countri\"\n",
      "\n",
      "\n",
      "14\n",
      "0.076*\"http\" + 0.065*\"great\" + 0.043*\"go\" + 0.036*\"florida\" + 0.034*\"make\" + 0.030*\"vote\" + 0.030*\"thank\" + 0.029*\"america\" + 0.026*\"state\" + 0.026*\"today\" + 0.023*\"day\" + 0.023*\"hous\" + 0.022*\"maga\" + 0.022*\"white\" + 0.021*\"get\" + 0.020*\"amp\" + 0.017*\"happi\" + 0.014*\"endors\" + 0.013*\"incred\" + 0.013*\"alabama\"\n",
      "\n",
      "\n",
      "15\n",
      "0.079*\"americafirst\" + 0.067*\"tax\" + 0.055*\"http\" + 0.041*\"put\" + 0.032*\"plan\" + 0.031*\"amp\" + 0.026*\"want\" + 0.025*\"cut\" + 0.024*\"great\" + 0.018*\"w/\" + 0.017*\"immigr\" + 0.016*\"reform\" + 0.014*\"foxandfriend\" + 0.014*\"deplor\" + 0.014*\"maga\" + 0.014*\"thank\" + 0.013*\"democrat\" + 0.013*\"healthcar\" + 0.012*\"guy\" + 0.012*\"congress\"\n",
      "\n",
      "\n",
      "16\n",
      "0.067*\"http\" + 0.057*\"amp\" + 0.057*\"great\" + 0.053*\"america\" + 0.043*\"togeth\" + 0.040*\"make\" + 0.032*\"safe\" + 0.029*\"peopl\" + 0.023*\"thank\" + 0.023*\"need\" + 0.021*\"get\" + 0.020*\"famili\" + 0.018*\"american\" + 0.017*\"come\" + 0.013*\"govern\" + 0.013*\"us\" + 0.010*\"work\" + 0.009*\"strong\" + 0.008*\"god\" + 0.008*\"'s\"\n",
      "\n",
      "\n",
      "17\n",
      "0.138*\"``\" + 0.128*\"''\" + 0.050*\"trump\" + 0.031*\"http\" + 0.029*\"mike_p\" + 0.027*\"'s\" + 0.024*\"donald\" + 0.022*\"hillari\" + 0.022*\"clinton\" + 0.018*\"governor\" + 0.016*\"crook\" + 0.013*\"state\" + 0.013*\"penc\" + 0.012*\"mike\" + 0.012*\"unbeliev\" + 0.011*\"foundat\" + 0.011*\"'ve\" + 0.010*\"campaign\" + 0.010*\"j.\" + 0.010*\"e-mail\"\n",
      "\n",
      "\n",
      "18\n",
      "0.169*\"http\" + 0.078*\"draintheswamp\" + 0.037*\"thank\" + 0.034*\"makeamericagreatagain\" + 0.027*\"north\" + 0.022*\"clinton\" + 0.021*\"maga\" + 0.021*\"carolina\" + 0.019*\"crookedhillari\" + 0.017*\"trump\" + 0.017*\"time\" + 0.016*\"nation\" + 0.014*\"debat\" + 0.014*\"'s\" + 0.012*\"amp\" + 0.011*\"secur\" + 0.011*\"vote\" + 0.010*\"leader\" + 0.010*\"rt\" + 0.010*\"arizona\"\n",
      "\n",
      "\n",
      "19\n",
      "0.319*\"http\" + 0.069*\"join\" + 0.046*\"thank\" + 0.026*\"today\" + 0.024*\"tomorrow\" + 0.022*\"watch\" + 0.021*\"honor\" + 0.020*\"ticket\" + 0.020*\"live\" + 0.020*\"great\" + 0.019*\"maga\" + 0.014*\"ohio\" + 0.013*\"poll\" + 0.012*\"amp\" + 0.012*\"us\" + 0.010*\"whitehous\" + 0.009*\"michigan\" + 0.009*\"full\" + 0.009*\"ralli\" + 0.009*\"women\"\n",
      "\n",
      "\n"
     ]
    }
   ],
   "source": [
    "for i in ldamodel.print_topics(num_topics=20, num_words=20):\n",
    "    print(i[0])\n",
    "    print(i[1])\n",
    "    print('\\n')"
   ]
  },
  {
   "cell_type": "markdown",
   "id": "80c74c12-3e38-4172-b8ee-e3ab7a9549eb",
   "metadata": {},
   "source": [
    "I dont think the key words from these topics really make sense, but I think thats because im reading things out of context? Some words do have some relation, but im not sure how much."
   ]
  },
  {
   "cell_type": "markdown",
   "id": "8ee3e48a-c863-469f-a3ea-140ca237ac45",
   "metadata": {},
   "source": [
    "OBAMA TWEETS"
   ]
  },
  {
   "cell_type": "code",
   "execution_count": 199,
   "id": "332a87a4-33b5-4344-91ca-229a231cb1da",
   "metadata": {},
   "outputs": [
    {
     "data": {
      "text/plain": [
       "[\"'m\",\n",
       " 'grateful',\n",
       " 'senjohnmccain',\n",
       " 'lifetime',\n",
       " 'service',\n",
       " 'country',\n",
       " 'congratulations',\n",
       " 'john',\n",
       " 'receiving',\n",
       " 'year',\n",
       " \"'s\",\n",
       " 'liberty',\n",
       " 'medal']"
      ]
     },
     "execution_count": 199,
     "metadata": {},
     "output_type": "execute_result"
    }
   ],
   "source": [
    "#locate punctuation\n",
    "myStopWords = list(punctuation) + stopwords.words('english')\n",
    "[w for w in word_tokenize(obama_text[0].lower()) if w not in myStopWords]"
   ]
  },
  {
   "cell_type": "code",
   "execution_count": 210,
   "id": "1664dcfd-aa33-4d16-999f-4d829906b5ee",
   "metadata": {},
   "outputs": [],
   "source": [
    "#iterate through obama tweets\n",
    "docs1 = []\n",
    "for i in obama_text:\n",
    "    docs1.append([w for w in word_tokenize(i.lower()) if w not in myStopWords])"
   ]
  },
  {
   "cell_type": "code",
   "execution_count": 211,
   "id": "d44afc98-dbad-4cbe-9fb6-a65b0a46c879",
   "metadata": {},
   "outputs": [
    {
     "data": {
      "text/plain": [
       "\"I'm grateful to @SenJohnMcCain for his lifetime of service to our country. Congratulations, John, on receiving this year's Liberty Medal.\""
      ]
     },
     "execution_count": 211,
     "metadata": {},
     "output_type": "execute_result"
    }
   ],
   "source": [
    "obama_text[0]"
   ]
  },
  {
   "cell_type": "code",
   "execution_count": 212,
   "id": "6b558698-b695-4bef-93f6-9bfcc7cda48f",
   "metadata": {},
   "outputs": [],
   "source": [
    "docs_stemmed1 = []\n",
    "for i in docs1:\n",
    "    docs_stemmed1.append([p_stemmer.stem(w) for w in i])"
   ]
  },
  {
   "cell_type": "code",
   "execution_count": 213,
   "id": "b7e673e8-3e09-4327-a145-cdebf43ff864",
   "metadata": {},
   "outputs": [
    {
     "data": {
      "text/plain": [
       "[\"'m\",\n",
       " 'grate',\n",
       " 'senjohnmccain',\n",
       " 'lifetim',\n",
       " 'servic',\n",
       " 'countri',\n",
       " 'congratul',\n",
       " 'john',\n",
       " 'receiv',\n",
       " 'year',\n",
       " \"'s\",\n",
       " 'liberti',\n",
       " 'medal']"
      ]
     },
     "execution_count": 213,
     "metadata": {},
     "output_type": "execute_result"
    }
   ],
   "source": [
    "docs_stemmed1[0]"
   ]
  },
  {
   "cell_type": "code",
   "execution_count": 214,
   "id": "93d38c5e-659f-40fe-ba82-edf4737e7473",
   "metadata": {},
   "outputs": [
    {
     "data": {
      "text/plain": [
       "6936"
      ]
     },
     "execution_count": 214,
     "metadata": {},
     "output_type": "execute_result"
    }
   ],
   "source": [
    "#dictionary length\n",
    "dictionary1 = corpora.Dictionary(docs_stemmed1)\n",
    "len(dictionary1)"
   ]
  },
  {
   "cell_type": "code",
   "execution_count": 215,
   "id": "5e997cd2-227b-4c7b-b5e3-be87e6bb35d4",
   "metadata": {},
   "outputs": [
    {
     "data": {
      "text/plain": [
       "541"
      ]
     },
     "execution_count": 215,
     "metadata": {},
     "output_type": "execute_result"
    }
   ],
   "source": [
    "#filter dictionary\n",
    "dictionary1.filter_extremes(no_below=10, no_above=0.5)\n",
    "len(dictionary1)"
   ]
  },
  {
   "cell_type": "code",
   "execution_count": 216,
   "id": "e1bf48a1-3fc3-4b6d-bad9-9e1cec15a0a1",
   "metadata": {},
   "outputs": [
    {
     "name": "stdout",
     "output_type": "stream",
     "text": [
      "{\"'m\": 0, \"'s\": 1, 'countri': 2, 'servic': 3, 'year': 4, 'amp': 5, 'anoth': 6, 'everyon': 7, 'famili': 8, 'michel': 9, 'thought': 10, 'best': 11, 'friend': 12, 'game': 13, 'proud': 14, 'team': 15, 'today': 16, \"'re\": 17, 'american': 18, 'effort': 19, 'expand': 20, 'fellow': 21, 'help': 22, 'join': 23, 'need': 24, 'right': 25, 'us': 26, 'better': 27, 'leav': 28, 'made': 29, 'want': 30, 'address': 31, 'presid': 32, 'rt': 33, 'start': 34, 'tune': 35, 'think': 36, 'tonight': 37, 'everi': 38, 'import': 39, 'kid': 40, 'make': 41, 'sure': 42, 'thank': 43, 'work': 44, 'chang': 45, 'inspir': 46, 'peopl': 47, 'world': 48, 'act': 49, 'ever': 50, 'honor': 51, 'across': 52, 'answer': 53, 'call': 54, 'u.s.': 55, 'futur': 56, 'hope': 57, 'mind': 58, 'young': 59, 'alway': 60, 'done': 61, 'noth': 62, 'statement': 63, 'first': 64, 'stand': 65, \"''\": 66, '...': 67, '``': 68, 'come': 69, 'love': 70, 'learn': 71, 'must': 72, 'one': 73, 'person': 74, \"'ve\": 75, 'give': 76, 'know': 77, \"n't\": 78, 'care': 79, 'health': 80, 'polit': 81, 'someth': 82, 'enough': 83, 'life': 84, 'commit': 85, 'day': 86, 'gun': 87, 'heard': 88, 'let': 89, 'nation': 90, 'reduc': 91, 'show': 92, 'violenc': 93, 'voic': 94, 'protect': 95, 'discuss': 96, 'good': 97, 'see': 98, 'go': 99, 'differ': 100, 'hear': 101, 'home': 102, 'happi': 103, 'back': 104, 'hard': 105, 'like': 106, 'it–¥—é¬ª': 107, 'side': 108, \"'ll\": 109, 'came': 110, 'miss': 111, 'turn': 112, 'power': 113, '//t–¥—é_': 114, 'commun': 115, 'lead': 116, 'mani': 117, 'tell': 118, '–¥—é_': 119, 'almost': 120, 'feel': 121, 'new': 122, 'job': 123, 'part': 124, 'read': 125, 'add': 126, 'ahead': 127, 'idea': 128, 'share': 129, 'everybodi': 130, 'get': 131, 'still': 132, 'thing': 133, 'eight': 134, 'et': 135, 'obama': 136, 'progress': 137, 'watch': 138, 'afford': 139, 'coverag': 140, 'ofa': 141, 'weekli': 142, 'improv': 143, 'obamacar': 144, 'economi': 145, 'keep': 146, 'stronger': 147, 'actonclim': 148, 'enter': 149, 'momentum': 150, 'parisagr': 151, 'ad': 152, 'past': 153, 'percent': 154, 'wage': 155, 'check': 156, 'getcov': 157, 'lot': 158, 'option': 159, 'plan': 160, 'big': 161, 'hold': 162, 'impact': 163, 'state': 164, 'believ': 165, 'even': 166, 'happen': 167, 'hous': 168, 'potu': 169, 'white': 170, 'win': 171, 'benefit': 172, 'million': 173, 'marketplac': 174, 'qualiti': 175, 'ensur': 176, 'equal': 177, 'mark': 178, 'pay': 179, 'whitehous': 180, 'never': 181, 'organ': 182, 'without': 183, 'open': 184, 'time': 185, 'uninsur': 186, '//t.–¥—é_': 187, 'enrol': 188, 'flotu': 189, 'stori': 190, 'tomorrow': 191, 'speak': 192, 'support': 193, 'insur': 194, 'three': 195, 'ca': 196, 'stop': 197, 'court': 198, 'doyourjob': 199, 'leader': 200, 'nomin': 201, 'obstruct': 202, 'process': 203, 'say': 204, 'senat': 205, 'suprem': 206, 'highest': 207, 'put': 208, 'chanc': 209, 'climat': 210, 'danger': 211, 'abl': 212, 'play': 213, 'rule': 214, 'lay': 215, 'way': 216, 'energi': 217, 'report': 218, 'gain': 219, 'peac': 220, 'build': 221, 'find': 222, 'cover': 223, 'name': 224, '1': 225, 'less': 226, 'month': 227, 'deserv': 228, 'fair': 229, 'sick': 230, 'system': 231, 'women': 232, 'trip': 233, 'truth': 234, 'financi': 235, 'movement': 236, 'polici': 237, 'strong': 238, 'level': 239, 'lowest': 240, 'sign': 241, 'sinc': 242, 'america': 243, 'cut': 244, 'rate': 245, 'live': 246, 'retweet': 247, 'save': 248, 'stay': 249, 'secur': 250, 'law': 251, 'celebr': 252, 'far': 253, 'talk': 254, '//t.co–¥—é_': 255, '10': 256, 'p.m.': 257, 'around': 258, 'got': 259, 'board': 260, 'editori': 261, 'look': 262, 'take': 263, 'justic': 264, 'long': 265, 'histori': 266, 'clear': 267, 'action': 268, 'bold': 269, 'real': 270, 'forward': 271, 'latest': 272, 'push': 273, 'step': 274, 'access': 275, 'educ': 276, 'fight': 277, 'could': 278, 'decad': 279, 'next': 280, 'block': 281, 'higher': 282, '–¥—é–æ': 283, '//t.c–¥—é_': 284, 'opportun': 285, 'student': 286, 'garland': 287, 'judg': 288, 'agre': 289, 'fill': 290, 'cynic': 291, 'challeng': 292, 'face': 293, 'that–¥—é¬ª': 294, 'vote': 295, 'offic': 296, '//t.co/–¥—é_': 297, 'readi': 298, 'carbon': 299, 'deal': 300, 'last': 301, 'pollut': 302, 'reach': 303, 'week': 304, 'children': 305, 'planet': 306, 'behind': 307, 'effect': 308, 'scienc': 309, '–¥—é–æpresid': 310, 'lgbt': 311, 'continu': 312, 'qualifi': 313, 'fact': 314, 'spread': 315, 'deadlin': 316, 'succeed': 317, 'administr': 318, 'econom': 319, 'growth': 320, 'longest': 321, 'record': 322, 'streak': 323, 'histor': 324, 'icymi': 325, 'mean': 326, 'clean': 327, 'cost': 328, 'drop': 329, 'gener': 330, 'agreement': 331, 'deliv': 332, 'vacanc': 333, 'pass': 334, 'matter': 335, 'convers': 336, 'bring': 337, 'inform': 338, 'paid': 339, 'private-sector': 340, 'took': 341, 'worker': 342, 'leadonleav': 343, 'child': 344, 'congress': 345, 'nomine': 346, 'consid': 347, 'refus': 348, '–¥–ö–ù': 349, 'question': 350, 'easi': 351, 'togeth': 352, 'ago': 353, 'poverti': 354, 'six': 355, 'high': 356, 'yet': 357, 'end': 358, 'unpreced': 359, 'wait': 360, 'broken': 361, 'record-break': 362, 'set': 363, 'recess': 364, 'respons': 365, 'alreadi': 366, 'leadership': 367, 'meet': 368, 'unit': 369, 'basic': 370, 'remind': 371, 'partisan': 372, 'land': 373, 'water': 374, 'nearli': 375, '2016': 376, 'confer': 377, 'break': 378, 'constitut': 379, 'solar': 380, 'two': 381, 'scotu': 382, 'middle-class': 383, '2015': 384, '//–¥—é_': 385, 'biden': 386, 'interview': 387, 'global': 388, 'factsonclim': 389, 'wind': 390, 'vp': 391, 'rise': 392, 'messag': 393, 'great': 394, 'deficit': 395, 'unemploy': 396, 'thousand': 397, 'feder': 398, 'up-or-down': 399, 'treat': 400, 'birthday': 401, 'park': 402, 'news': 403, 'straight': 404, 'creat': 405, 'full': 406, 'longer': 407, 'public': 408, 'we–¥—é¬ªv': 409, 'anniversari': 410, 'billion': 411, 'common-sens': 412, 'disarmh': 413, 'use': 414, 'left': 415, 'five': 416, 'critic': 417, 'major': 418, 'much': 419, 'toward': 420, 'strongest': 421, 'card': 422, 'wish': 423, 'special': 424, '8': 425, 'number': 426, 'may': 427, 'issu': 428, 'place': 429, 'away': 430, 'scientist': 431, 'prevent': 432, 'announc': 433, 'minimum': 434, 'rais': 435, 'raisethewag': 436, 'crisi': 437, 'reform': 438, 'bipartisan': 439, 'busi': 440, '/–¥—é_': 441, 'industri': 442, 'train': 443, 'op-': 444, 'remark': 445, 'hall': 446, 'town': 447, 'would': 448, 'chicago': 449, 'hard-work': 450, 'chip': 451, 'run': 452, 'moment': 453, 'fall': 454, 'tackl': 455, 'demand': 456, '1st': 457, 'loveislov': 458, 'free': 459, 'marriag': 460, 'grassroot': 461, 'word': 462, 'immigr': 463, 'immigrationact': 464, 'decis': 465, 'merrick': 466, 'taken': 467, 'worth': 468, 'tpp': 469, 'final': 470, 'seven': 471, 'school': 472, 'overtim': 473, 'updat': 474, 'consecut': 475, 'grow': 476, 'men': 477, 'volunt': 478, 'trade': 479, 'air': 480, 'safer': 481, 'denier': 482, 'move': 483, 'head': 484, 'crimin': 485, 'huge': 486, 'invest': 487, 'threat': 488, 'a.m.': 489, 'centuri': 490, 'shot': 491, 'petit': 492, 'februari': 493, 'list': 494, 'itsonu': 495, 'skill': 496, 'januari': 497, 'budget': 498, 'send': 499, 'privat': 500, 'stopgunviol': 501, 'tri': 502, 'auto': 503, 'prison': 504, 'madeinamerica': 505, 'iran': 506, 'irand': 507, 'reject': 508, 'sotu': 509, 'leadontrad': 510, 'dollar': 511, 'colleg': 512, 'collegeopportun': 513, 'union': 514, 'alaska': 515, 'holiday': 516, 'reason': 517, 'enoughalreadi': 518, 'dosometh': 519, 'assault': 520, 'compani': 521, 'summit': 522, 'fix': 523, 'ofafallsummit': 524, 'class': 525, 'middl': 526, 'pledg': 527, 'fixovertim': 528, 'bill': 529, 'internet': 530, 'acawork': 531, 'lovewin': 532, 'marchon': 533, 'selma50': 534, 'netneutr': 535, 'sexual': 536, 'americalead': 537, 'thisiswhi': 538, 'womensucce': 539, 'opportunityforal': 540}\n"
     ]
    }
   ],
   "source": [
    "print(dictionary1.token2id)"
   ]
  },
  {
   "cell_type": "code",
   "execution_count": 223,
   "id": "a84c46b3-e005-4867-86f9-50d51fcd7794",
   "metadata": {},
   "outputs": [
    {
     "name": "stdout",
     "output_type": "stream",
     "text": [
      "54\n",
      "call\n"
     ]
    }
   ],
   "source": [
    "print(dictionary1.token2id['call'])\n",
    "print(dictionary1[54])"
   ]
  },
  {
   "cell_type": "code",
   "execution_count": 226,
   "id": "898f47fd-9fa1-4582-aeca-a4b36c7fbbe1",
   "metadata": {},
   "outputs": [
    {
     "name": "stdout",
     "output_type": "stream",
     "text": [
      "19\n",
      "effort\n"
     ]
    }
   ],
   "source": [
    "print(dictionary1.token2id['effort'])\n",
    "print(dictionary1[19])"
   ]
  },
  {
   "cell_type": "code",
   "execution_count": 227,
   "id": "c4cdd906-0a50-4781-ab73-42e57c097be5",
   "metadata": {},
   "outputs": [
    {
     "name": "stdout",
     "output_type": "stream",
     "text": [
      "[(1, 1), (24, 1), (40, 1), (95, 1), (105, 1), (106, 1)]\n"
     ]
    }
   ],
   "source": [
    "corpus = [dictionary1.doc2bow(text) for text in docs_stemmed1]\n",
    "print(corpus[30])"
   ]
  },
  {
   "cell_type": "code",
   "execution_count": 228,
   "id": "023750fa-3b1b-4aea-bfbc-609eb6b65b68",
   "metadata": {},
   "outputs": [
    {
     "name": "stdout",
     "output_type": "stream",
     "text": [
      "'s 1\n",
      "'s 1\n",
      "need 1\n",
      "kid 1\n",
      "protect 1\n",
      "hard 1\n",
      "like 1\n"
     ]
    }
   ],
   "source": [
    "wordid = corpus[30][0]\n",
    "print(dictionary1[wordid[0]],wordid[1])\n",
    "for i in corpus[30]:\n",
    "    print(dictionary1[i[0]], i[1])"
   ]
  },
  {
   "cell_type": "code",
   "execution_count": 229,
   "id": "2637b2ad-b522-458f-a590-fd22d0e1feec",
   "metadata": {},
   "outputs": [
    {
     "data": {
      "text/plain": [
       "[(0,\n",
       "  '0.142*\"rt\" + 0.110*\"whitehous\" + 0.060*\"–¥–ö–ù\" + 0.045*\"actonclim\" + 0.032*\"energi\" + 0.024*\"potu\" + 0.023*\"invest\" + 0.022*\"watch\" + 0.022*\"\\'s\" + 0.020*\"clean\"'),\n",
       " (1,\n",
       "  '0.186*\"presid\" + 0.141*\"obama\" + 0.079*\"watch\" + 0.056*\"live\" + 0.046*\"speak\" + 0.042*\"address\" + 0.034*\"tune\" + 0.032*\"et\" + 0.029*\"weekli\" + 0.024*\"p.m.\"'),\n",
       " (2,\n",
       "  '0.130*\"\\'s\" + 0.068*\"time\" + 0.044*\"presid\" + 0.035*\"state\" + 0.034*\"actonclim\" + 0.033*\"happi\" + 0.030*\"obama\" + 0.027*\"2015\" + 0.026*\"agre\" + 0.024*\"polit\"'),\n",
       " (3,\n",
       "  '0.063*\"\\'s\" + 0.047*\"fair\" + 0.045*\"judg\" + 0.045*\"garland\" + 0.036*\"hear\" + 0.035*\"time\" + 0.030*\"give\" + 0.029*\"deserv\" + 0.029*\"vote\" + 0.027*\"work\"'),\n",
       " (4,\n",
       "  '0.088*\"rt\" + 0.047*\"rate\" + 0.031*\"first\" + 0.030*\"\\'s\" + 0.028*\"flotu\" + 0.028*\"sign\" + 0.021*\"share\" + 0.021*\"today\" + 0.020*\"whitehous\" + 0.019*\"sinc\"'),\n",
       " (5,\n",
       "  '0.068*\"pollut\" + 0.053*\"carbon\" + 0.049*\"cut\" + 0.046*\"countri\" + 0.045*\"world\" + 0.042*\"look\" + 0.036*\"actonclim\" + 0.028*\"new\" + 0.024*\"across\" + 0.022*\"best\"'),\n",
       " (6,\n",
       "  '0.112*\"health\" + 0.057*\"n\\'t\" + 0.050*\"care\" + 0.040*\"\\'s\" + 0.038*\"chanc\" + 0.037*\"insur\" + 0.037*\"million\" + 0.030*\"afford\" + 0.029*\"coverag\" + 0.027*\"american\"'),\n",
       " (7,\n",
       "  '0.042*\"immigr\" + 0.038*\"obamacar\" + 0.027*\"help\" + 0.025*\"reform\" + 0.024*\"keep\" + 0.024*\"immigrationact\" + 0.023*\"matter\" + 0.023*\"system\" + 0.022*\"\\'s\" + 0.021*\"care\"'),\n",
       " (8,\n",
       "  '0.075*\"famili\" + 0.053*\"wage\" + 0.044*\"econom\" + 0.041*\"work\" + 0.040*\"minimum\" + 0.040*\"rais\" + 0.038*\"raisethewag\" + 0.033*\"\\'s\" + 0.033*\"middle-class\" + 0.027*\"help\"'),\n",
       " (9,\n",
       "  '0.098*\"getcov\" + 0.055*\"make\" + 0.046*\"sure\" + 0.036*\"check\" + 0.034*\"enrol\" + 0.034*\"hous\" + 0.032*\"health\" + 0.030*\"start\" + 0.030*\"today\" + 0.027*\"open\"'),\n",
       " (10,\n",
       "  '0.097*\"``\" + 0.094*\"\\'\\'\" + 0.086*\"obama\" + 0.080*\"–¥—é–æpresid\" + 0.058*\"year\" + 0.031*\"\\'s\" + 0.022*\"back\" + 0.021*\"progress\" + 0.021*\"itsonu\" + 0.017*\"made\"'),\n",
       " (11,\n",
       "  '0.134*\"``\" + 0.133*\"obama\" + 0.131*\"–¥—é–æpresid\" + 0.129*\"\\'\\'\" + 0.034*\"america\" + 0.023*\"work\" + 0.017*\"immigrationact\" + 0.016*\"everi\" + 0.016*\"\\'ve\" + 0.013*\"nation\"'),\n",
       " (12,\n",
       "  '0.144*\"job\" + 0.081*\"economi\" + 0.056*\"month\" + 0.047*\"growth\" + 0.042*\"ad\" + 0.040*\"could\" + 0.030*\"sinc\" + 0.029*\"private-sector\" + 0.024*\"\\'s\" + 0.022*\"grow\"'),\n",
       " (13,\n",
       "  '0.074*\"rt\" + 0.063*\"``\" + 0.060*\"\\'\\'\" + 0.044*\"whitehous\" + 0.043*\"–¥—é–æ\" + 0.028*\"free\" + 0.028*\"potu\" + 0.025*\"colleg\" + 0.024*\"holiday\" + 0.020*\"obama\"'),\n",
       " (14,\n",
       "  '0.077*\"ofa\" + 0.059*\"organ\" + 0.036*\"gun\" + 0.034*\"violenc\" + 0.028*\"readi\" + 0.026*\"volunt\" + 0.023*\"make\" + 0.021*\"grassroot\" + 0.021*\"support\" + 0.021*\"train\"'),\n",
       " (15,\n",
       "  '0.115*\"obama\" + 0.108*\"–¥—é–æpresid\" + 0.108*\"``\" + 0.103*\"\\'\\'\" + 0.040*\"sotu\" + 0.034*\"american\" + 0.023*\"work\" + 0.022*\"futur\" + 0.020*\"\\'re\" + 0.017*\"protect\"'),\n",
       " (16,\n",
       "  '0.110*\"chang\" + 0.097*\"climat\" + 0.090*\"actonclim\" + 0.057*\"fight\" + 0.042*\"name\" + 0.037*\"\\'s\" + 0.037*\"add\" + 0.035*\"action\" + 0.033*\"support\" + 0.029*\"take\"'),\n",
       " (17,\n",
       "  '0.094*\"senat\" + 0.076*\"doyourjob\" + 0.062*\"suprem\" + 0.060*\"court\" + 0.057*\"leader\" + 0.029*\"need\" + 0.020*\"board\" + 0.019*\"\\'s\" + 0.019*\"major\" + 0.019*\"job\"'),\n",
       " (18,\n",
       "  '0.072*\"obama\" + 0.068*\"\\'\\'\" + 0.066*\"``\" + 0.060*\"–¥—é–æpresid\" + 0.058*\"peopl\" + 0.041*\"want\" + 0.039*\"get\" + 0.038*\"\\'s\" + 0.024*\"us\" + 0.022*\"let\"'),\n",
       " (19,\n",
       "  '0.062*\"\\'s\" + 0.054*\"import\" + 0.053*\"team\" + 0.041*\"leadontrad\" + 0.038*\"worker\" + 0.037*\"join\" + 0.036*\"trade\" + 0.035*\"ofa\" + 0.035*\"big\" + 0.029*\"fact\"')]"
      ]
     },
     "execution_count": 229,
     "metadata": {},
     "output_type": "execute_result"
    }
   ],
   "source": [
    "ldamodel = gensim.models.ldamodel.LdaModel(corpus, \n",
    "                                           num_topics=20, \n",
    "                                           id2word = dictionary1, \n",
    "                                           passes=5)\n",
    "ldamodel.show_topics(num_topics=20)"
   ]
  },
  {
   "cell_type": "markdown",
   "id": "bc4f912b-6064-4acc-aa92-484c13d2b28a",
   "metadata": {},
   "source": [
    "I do feel like some of these key words in the topics do make sense. Such as in 16, where it talks about climate and climate change, as well as in 19 when it mentions team and join and worker."
   ]
  },
  {
   "cell_type": "code",
   "execution_count": null,
   "id": "120f547b-e67b-4abc-a0c2-029ea1fb4008",
   "metadata": {},
   "outputs": [],
   "source": []
  }
 ],
 "metadata": {
  "kernelspec": {
   "display_name": "Python 3 (ipykernel)",
   "language": "python",
   "name": "python3"
  },
  "language_info": {
   "codemirror_mode": {
    "name": "ipython",
    "version": 3
   },
   "file_extension": ".py",
   "mimetype": "text/x-python",
   "name": "python",
   "nbconvert_exporter": "python",
   "pygments_lexer": "ipython3",
   "version": "3.9.6"
  }
 },
 "nbformat": 4,
 "nbformat_minor": 5
}
